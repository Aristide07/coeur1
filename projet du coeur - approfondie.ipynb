{
 "cells": [
  {
   "cell_type": "code",
   "execution_count": 1,
   "id": "1b656ada",
   "metadata": {},
   "outputs": [],
   "source": [
    "import pandas as pd\n",
    "import numpy as np\n",
    "import matplotlib.pyplot as plt\n",
    "import seaborn as sns"
   ]
  },
  {
   "cell_type": "code",
   "execution_count": 2,
   "id": "2ebcff7c",
   "metadata": {},
   "outputs": [],
   "source": [
    "import warnings\n",
    "warnings.filterwarnings('ignore')"
   ]
  },
  {
   "cell_type": "code",
   "execution_count": 3,
   "id": "27e13141",
   "metadata": {},
   "outputs": [],
   "source": [
    "# Afficher mon dataset en entier\n",
    "pd.set_option(\"max_columns\", None)\n",
    "pd.set_option(\"max_row\", 20)"
   ]
  },
  {
   "cell_type": "markdown",
   "id": "070fe1a8",
   "metadata": {},
   "source": [
    "# Analyse Exploratoire"
   ]
  },
  {
   "cell_type": "code",
   "execution_count": 4,
   "id": "1c32bfa2",
   "metadata": {},
   "outputs": [],
   "source": [
    "# Chargement du dataset\n",
    "df = pd.read_excel ('Dataset-coeur.xlsx')"
   ]
  },
  {
   "cell_type": "code",
   "execution_count": 5,
   "id": "6b77338b",
   "metadata": {},
   "outputs": [
    {
     "data": {
      "text/html": [
       "<div>\n",
       "<style scoped>\n",
       "    .dataframe tbody tr th:only-of-type {\n",
       "        vertical-align: middle;\n",
       "    }\n",
       "\n",
       "    .dataframe tbody tr th {\n",
       "        vertical-align: top;\n",
       "    }\n",
       "\n",
       "    .dataframe thead th {\n",
       "        text-align: right;\n",
       "    }\n",
       "</style>\n",
       "<table border=\"1\" class=\"dataframe\">\n",
       "  <thead>\n",
       "    <tr style=\"text-align: right;\">\n",
       "      <th></th>\n",
       "      <th>AGE</th>\n",
       "      <th>SEXE</th>\n",
       "      <th>TDT</th>\n",
       "      <th>PAR</th>\n",
       "      <th>CHOLESTEROL</th>\n",
       "      <th>GAJ</th>\n",
       "      <th>ECG</th>\n",
       "      <th>FCMAX</th>\n",
       "      <th>ANGINE</th>\n",
       "      <th>DEPRESSION</th>\n",
       "      <th>PENTE</th>\n",
       "      <th>CŒUR</th>\n",
       "    </tr>\n",
       "  </thead>\n",
       "  <tbody>\n",
       "    <tr>\n",
       "      <th>0</th>\n",
       "      <td>40</td>\n",
       "      <td>homme</td>\n",
       "      <td>AA</td>\n",
       "      <td>140</td>\n",
       "      <td>289</td>\n",
       "      <td>0</td>\n",
       "      <td>Normal</td>\n",
       "      <td>172</td>\n",
       "      <td>Non</td>\n",
       "      <td>0.0</td>\n",
       "      <td>Ascendant</td>\n",
       "      <td>0</td>\n",
       "    </tr>\n",
       "    <tr>\n",
       "      <th>1</th>\n",
       "      <td>49</td>\n",
       "      <td>femme</td>\n",
       "      <td>DNA</td>\n",
       "      <td>160</td>\n",
       "      <td>180</td>\n",
       "      <td>0</td>\n",
       "      <td>Normal</td>\n",
       "      <td>156</td>\n",
       "      <td>Non</td>\n",
       "      <td>1.0</td>\n",
       "      <td>Plat</td>\n",
       "      <td>1</td>\n",
       "    </tr>\n",
       "    <tr>\n",
       "      <th>2</th>\n",
       "      <td>37</td>\n",
       "      <td>homme</td>\n",
       "      <td>AA</td>\n",
       "      <td>130</td>\n",
       "      <td>283</td>\n",
       "      <td>0</td>\n",
       "      <td>ST</td>\n",
       "      <td>98</td>\n",
       "      <td>Non</td>\n",
       "      <td>0.0</td>\n",
       "      <td>Ascendant</td>\n",
       "      <td>0</td>\n",
       "    </tr>\n",
       "    <tr>\n",
       "      <th>3</th>\n",
       "      <td>48</td>\n",
       "      <td>femme</td>\n",
       "      <td>ASY</td>\n",
       "      <td>138</td>\n",
       "      <td>214</td>\n",
       "      <td>0</td>\n",
       "      <td>Normal</td>\n",
       "      <td>108</td>\n",
       "      <td>Oui</td>\n",
       "      <td>1.5</td>\n",
       "      <td>Plat</td>\n",
       "      <td>1</td>\n",
       "    </tr>\n",
       "    <tr>\n",
       "      <th>4</th>\n",
       "      <td>54</td>\n",
       "      <td>homme</td>\n",
       "      <td>DNA</td>\n",
       "      <td>150</td>\n",
       "      <td>195</td>\n",
       "      <td>0</td>\n",
       "      <td>Normal</td>\n",
       "      <td>122</td>\n",
       "      <td>Non</td>\n",
       "      <td>0.0</td>\n",
       "      <td>Ascendant</td>\n",
       "      <td>0</td>\n",
       "    </tr>\n",
       "    <tr>\n",
       "      <th>...</th>\n",
       "      <td>...</td>\n",
       "      <td>...</td>\n",
       "      <td>...</td>\n",
       "      <td>...</td>\n",
       "      <td>...</td>\n",
       "      <td>...</td>\n",
       "      <td>...</td>\n",
       "      <td>...</td>\n",
       "      <td>...</td>\n",
       "      <td>...</td>\n",
       "      <td>...</td>\n",
       "      <td>...</td>\n",
       "    </tr>\n",
       "    <tr>\n",
       "      <th>913</th>\n",
       "      <td>45</td>\n",
       "      <td>homme</td>\n",
       "      <td>AT</td>\n",
       "      <td>110</td>\n",
       "      <td>264</td>\n",
       "      <td>0</td>\n",
       "      <td>Normal</td>\n",
       "      <td>132</td>\n",
       "      <td>Non</td>\n",
       "      <td>1.2</td>\n",
       "      <td>Plat</td>\n",
       "      <td>1</td>\n",
       "    </tr>\n",
       "    <tr>\n",
       "      <th>914</th>\n",
       "      <td>68</td>\n",
       "      <td>homme</td>\n",
       "      <td>ASY</td>\n",
       "      <td>144</td>\n",
       "      <td>193</td>\n",
       "      <td>1</td>\n",
       "      <td>Normal</td>\n",
       "      <td>141</td>\n",
       "      <td>Non</td>\n",
       "      <td>3.4</td>\n",
       "      <td>Plat</td>\n",
       "      <td>1</td>\n",
       "    </tr>\n",
       "    <tr>\n",
       "      <th>915</th>\n",
       "      <td>57</td>\n",
       "      <td>homme</td>\n",
       "      <td>ASY</td>\n",
       "      <td>130</td>\n",
       "      <td>131</td>\n",
       "      <td>0</td>\n",
       "      <td>Normal</td>\n",
       "      <td>115</td>\n",
       "      <td>Oui</td>\n",
       "      <td>1.2</td>\n",
       "      <td>Plat</td>\n",
       "      <td>1</td>\n",
       "    </tr>\n",
       "    <tr>\n",
       "      <th>916</th>\n",
       "      <td>57</td>\n",
       "      <td>femme</td>\n",
       "      <td>AA</td>\n",
       "      <td>130</td>\n",
       "      <td>236</td>\n",
       "      <td>0</td>\n",
       "      <td>LVH</td>\n",
       "      <td>174</td>\n",
       "      <td>Non</td>\n",
       "      <td>0.0</td>\n",
       "      <td>Plat</td>\n",
       "      <td>1</td>\n",
       "    </tr>\n",
       "    <tr>\n",
       "      <th>917</th>\n",
       "      <td>38</td>\n",
       "      <td>homme</td>\n",
       "      <td>DNA</td>\n",
       "      <td>138</td>\n",
       "      <td>175</td>\n",
       "      <td>0</td>\n",
       "      <td>Normal</td>\n",
       "      <td>173</td>\n",
       "      <td>Non</td>\n",
       "      <td>0.0</td>\n",
       "      <td>Ascendant</td>\n",
       "      <td>0</td>\n",
       "    </tr>\n",
       "  </tbody>\n",
       "</table>\n",
       "<p>918 rows × 12 columns</p>\n",
       "</div>"
      ],
      "text/plain": [
       "     AGE   SEXE  TDT  PAR  CHOLESTEROL  GAJ     ECG  FCMAX ANGINE  \\\n",
       "0     40  homme   AA  140          289    0  Normal    172    Non   \n",
       "1     49  femme  DNA  160          180    0  Normal    156    Non   \n",
       "2     37  homme   AA  130          283    0      ST     98    Non   \n",
       "3     48  femme  ASY  138          214    0  Normal    108    Oui   \n",
       "4     54  homme  DNA  150          195    0  Normal    122    Non   \n",
       "..   ...    ...  ...  ...          ...  ...     ...    ...    ...   \n",
       "913   45  homme   AT  110          264    0  Normal    132    Non   \n",
       "914   68  homme  ASY  144          193    1  Normal    141    Non   \n",
       "915   57  homme  ASY  130          131    0  Normal    115    Oui   \n",
       "916   57  femme   AA  130          236    0     LVH    174    Non   \n",
       "917   38  homme  DNA  138          175    0  Normal    173    Non   \n",
       "\n",
       "     DEPRESSION       PENTE  CŒUR  \n",
       "0            0.0  Ascendant     0  \n",
       "1            1.0       Plat     1  \n",
       "2            0.0  Ascendant     0  \n",
       "3            1.5       Plat     1  \n",
       "4            0.0  Ascendant     0  \n",
       "..           ...        ...   ...  \n",
       "913          1.2       Plat     1  \n",
       "914          3.4       Plat     1  \n",
       "915          1.2       Plat     1  \n",
       "916          0.0       Plat     1  \n",
       "917          0.0  Ascendant     0  \n",
       "\n",
       "[918 rows x 12 columns]"
      ]
     },
     "execution_count": 5,
     "metadata": {},
     "output_type": "execute_result"
    }
   ],
   "source": [
    "# visualisation du dataset\n",
    "df"
   ]
  },
  {
   "cell_type": "markdown",
   "id": "282dfea4",
   "metadata": {},
   "source": [
    "* Vu qu'il peut arriver que j'ai besoin du dataset d'origine, je décide alors de le duppliquer afin de travailler sur la copie."
   ]
  },
  {
   "cell_type": "code",
   "execution_count": 6,
   "id": "3f1eefbe",
   "metadata": {},
   "outputs": [
    {
     "data": {
      "text/html": [
       "<div>\n",
       "<style scoped>\n",
       "    .dataframe tbody tr th:only-of-type {\n",
       "        vertical-align: middle;\n",
       "    }\n",
       "\n",
       "    .dataframe tbody tr th {\n",
       "        vertical-align: top;\n",
       "    }\n",
       "\n",
       "    .dataframe thead th {\n",
       "        text-align: right;\n",
       "    }\n",
       "</style>\n",
       "<table border=\"1\" class=\"dataframe\">\n",
       "  <thead>\n",
       "    <tr style=\"text-align: right;\">\n",
       "      <th></th>\n",
       "      <th>AGE</th>\n",
       "      <th>SEXE</th>\n",
       "      <th>TDT</th>\n",
       "      <th>PAR</th>\n",
       "      <th>CHOLESTEROL</th>\n",
       "      <th>GAJ</th>\n",
       "      <th>ECG</th>\n",
       "      <th>FCMAX</th>\n",
       "      <th>ANGINE</th>\n",
       "      <th>DEPRESSION</th>\n",
       "      <th>PENTE</th>\n",
       "      <th>CŒUR</th>\n",
       "    </tr>\n",
       "  </thead>\n",
       "  <tbody>\n",
       "    <tr>\n",
       "      <th>0</th>\n",
       "      <td>40</td>\n",
       "      <td>homme</td>\n",
       "      <td>AA</td>\n",
       "      <td>140</td>\n",
       "      <td>289</td>\n",
       "      <td>0</td>\n",
       "      <td>Normal</td>\n",
       "      <td>172</td>\n",
       "      <td>Non</td>\n",
       "      <td>0.0</td>\n",
       "      <td>Ascendant</td>\n",
       "      <td>0</td>\n",
       "    </tr>\n",
       "    <tr>\n",
       "      <th>1</th>\n",
       "      <td>49</td>\n",
       "      <td>femme</td>\n",
       "      <td>DNA</td>\n",
       "      <td>160</td>\n",
       "      <td>180</td>\n",
       "      <td>0</td>\n",
       "      <td>Normal</td>\n",
       "      <td>156</td>\n",
       "      <td>Non</td>\n",
       "      <td>1.0</td>\n",
       "      <td>Plat</td>\n",
       "      <td>1</td>\n",
       "    </tr>\n",
       "    <tr>\n",
       "      <th>2</th>\n",
       "      <td>37</td>\n",
       "      <td>homme</td>\n",
       "      <td>AA</td>\n",
       "      <td>130</td>\n",
       "      <td>283</td>\n",
       "      <td>0</td>\n",
       "      <td>ST</td>\n",
       "      <td>98</td>\n",
       "      <td>Non</td>\n",
       "      <td>0.0</td>\n",
       "      <td>Ascendant</td>\n",
       "      <td>0</td>\n",
       "    </tr>\n",
       "    <tr>\n",
       "      <th>3</th>\n",
       "      <td>48</td>\n",
       "      <td>femme</td>\n",
       "      <td>ASY</td>\n",
       "      <td>138</td>\n",
       "      <td>214</td>\n",
       "      <td>0</td>\n",
       "      <td>Normal</td>\n",
       "      <td>108</td>\n",
       "      <td>Oui</td>\n",
       "      <td>1.5</td>\n",
       "      <td>Plat</td>\n",
       "      <td>1</td>\n",
       "    </tr>\n",
       "    <tr>\n",
       "      <th>4</th>\n",
       "      <td>54</td>\n",
       "      <td>homme</td>\n",
       "      <td>DNA</td>\n",
       "      <td>150</td>\n",
       "      <td>195</td>\n",
       "      <td>0</td>\n",
       "      <td>Normal</td>\n",
       "      <td>122</td>\n",
       "      <td>Non</td>\n",
       "      <td>0.0</td>\n",
       "      <td>Ascendant</td>\n",
       "      <td>0</td>\n",
       "    </tr>\n",
       "    <tr>\n",
       "      <th>...</th>\n",
       "      <td>...</td>\n",
       "      <td>...</td>\n",
       "      <td>...</td>\n",
       "      <td>...</td>\n",
       "      <td>...</td>\n",
       "      <td>...</td>\n",
       "      <td>...</td>\n",
       "      <td>...</td>\n",
       "      <td>...</td>\n",
       "      <td>...</td>\n",
       "      <td>...</td>\n",
       "      <td>...</td>\n",
       "    </tr>\n",
       "    <tr>\n",
       "      <th>913</th>\n",
       "      <td>45</td>\n",
       "      <td>homme</td>\n",
       "      <td>AT</td>\n",
       "      <td>110</td>\n",
       "      <td>264</td>\n",
       "      <td>0</td>\n",
       "      <td>Normal</td>\n",
       "      <td>132</td>\n",
       "      <td>Non</td>\n",
       "      <td>1.2</td>\n",
       "      <td>Plat</td>\n",
       "      <td>1</td>\n",
       "    </tr>\n",
       "    <tr>\n",
       "      <th>914</th>\n",
       "      <td>68</td>\n",
       "      <td>homme</td>\n",
       "      <td>ASY</td>\n",
       "      <td>144</td>\n",
       "      <td>193</td>\n",
       "      <td>1</td>\n",
       "      <td>Normal</td>\n",
       "      <td>141</td>\n",
       "      <td>Non</td>\n",
       "      <td>3.4</td>\n",
       "      <td>Plat</td>\n",
       "      <td>1</td>\n",
       "    </tr>\n",
       "    <tr>\n",
       "      <th>915</th>\n",
       "      <td>57</td>\n",
       "      <td>homme</td>\n",
       "      <td>ASY</td>\n",
       "      <td>130</td>\n",
       "      <td>131</td>\n",
       "      <td>0</td>\n",
       "      <td>Normal</td>\n",
       "      <td>115</td>\n",
       "      <td>Oui</td>\n",
       "      <td>1.2</td>\n",
       "      <td>Plat</td>\n",
       "      <td>1</td>\n",
       "    </tr>\n",
       "    <tr>\n",
       "      <th>916</th>\n",
       "      <td>57</td>\n",
       "      <td>femme</td>\n",
       "      <td>AA</td>\n",
       "      <td>130</td>\n",
       "      <td>236</td>\n",
       "      <td>0</td>\n",
       "      <td>LVH</td>\n",
       "      <td>174</td>\n",
       "      <td>Non</td>\n",
       "      <td>0.0</td>\n",
       "      <td>Plat</td>\n",
       "      <td>1</td>\n",
       "    </tr>\n",
       "    <tr>\n",
       "      <th>917</th>\n",
       "      <td>38</td>\n",
       "      <td>homme</td>\n",
       "      <td>DNA</td>\n",
       "      <td>138</td>\n",
       "      <td>175</td>\n",
       "      <td>0</td>\n",
       "      <td>Normal</td>\n",
       "      <td>173</td>\n",
       "      <td>Non</td>\n",
       "      <td>0.0</td>\n",
       "      <td>Ascendant</td>\n",
       "      <td>0</td>\n",
       "    </tr>\n",
       "  </tbody>\n",
       "</table>\n",
       "<p>918 rows × 12 columns</p>\n",
       "</div>"
      ],
      "text/plain": [
       "     AGE   SEXE  TDT  PAR  CHOLESTEROL  GAJ     ECG  FCMAX ANGINE  \\\n",
       "0     40  homme   AA  140          289    0  Normal    172    Non   \n",
       "1     49  femme  DNA  160          180    0  Normal    156    Non   \n",
       "2     37  homme   AA  130          283    0      ST     98    Non   \n",
       "3     48  femme  ASY  138          214    0  Normal    108    Oui   \n",
       "4     54  homme  DNA  150          195    0  Normal    122    Non   \n",
       "..   ...    ...  ...  ...          ...  ...     ...    ...    ...   \n",
       "913   45  homme   AT  110          264    0  Normal    132    Non   \n",
       "914   68  homme  ASY  144          193    1  Normal    141    Non   \n",
       "915   57  homme  ASY  130          131    0  Normal    115    Oui   \n",
       "916   57  femme   AA  130          236    0     LVH    174    Non   \n",
       "917   38  homme  DNA  138          175    0  Normal    173    Non   \n",
       "\n",
       "     DEPRESSION       PENTE  CŒUR  \n",
       "0            0.0  Ascendant     0  \n",
       "1            1.0       Plat     1  \n",
       "2            0.0  Ascendant     0  \n",
       "3            1.5       Plat     1  \n",
       "4            0.0  Ascendant     0  \n",
       "..           ...        ...   ...  \n",
       "913          1.2       Plat     1  \n",
       "914          3.4       Plat     1  \n",
       "915          1.2       Plat     1  \n",
       "916          0.0       Plat     1  \n",
       "917          0.0  Ascendant     0  \n",
       "\n",
       "[918 rows x 12 columns]"
      ]
     },
     "execution_count": 6,
     "metadata": {},
     "output_type": "execute_result"
    }
   ],
   "source": [
    "df1=df.copy()\n",
    "df1"
   ]
  },
  {
   "cell_type": "markdown",
   "id": "f1b836a5",
   "metadata": {},
   "source": [
    "Mon dataset présente 918 lignes et 12 colonnes. De mon point de vue, le nombre de lignes par rapport au nombre de colone est assez conséquent pour effectuer une bonne analyse. Cela ne pose pas de problème."
   ]
  },
  {
   "cell_type": "code",
   "execution_count": 7,
   "id": "995ae0fc",
   "metadata": {},
   "outputs": [
    {
     "data": {
      "text/plain": [
       "0"
      ]
     },
     "execution_count": 7,
     "metadata": {},
     "output_type": "execute_result"
    }
   ],
   "source": [
    "# Voir s'il y a des données qui ont été dupliqués\n",
    "\n",
    "df1.duplicated().sum()"
   ]
  },
  {
   "cell_type": "markdown",
   "id": "dd93dd23",
   "metadata": {},
   "source": [
    "Je constate que je n'ai pas de données duppliquées dans mon dataset"
   ]
  },
  {
   "cell_type": "code",
   "execution_count": 8,
   "id": "19c8fac6",
   "metadata": {},
   "outputs": [
    {
     "data": {
      "text/plain": [
       "AGE            0.0\n",
       "SEXE           0.0\n",
       "TDT            0.0\n",
       "PAR            0.0\n",
       "CHOLESTEROL    0.0\n",
       "GAJ            0.0\n",
       "ECG            0.0\n",
       "FCMAX          0.0\n",
       "ANGINE         0.0\n",
       "DEPRESSION     0.0\n",
       "PENTE          0.0\n",
       "CŒUR           0.0\n",
       "dtype: float64"
      ]
     },
     "execution_count": 8,
     "metadata": {},
     "output_type": "execute_result"
    }
   ],
   "source": [
    "# verification de données manquantes en %\n",
    "\n",
    "(df1.isna().sum()/df1.shape[0]).sort_values()*100"
   ]
  },
  {
   "cell_type": "markdown",
   "id": "7cdc94cb",
   "metadata": {},
   "source": [
    "Au regard de ce qui précède, je constate que mon jeu de données ne contient pas de données manquantes"
   ]
  },
  {
   "cell_type": "markdown",
   "id": "008c207a",
   "metadata": {},
   "source": [
    "#### RENOMINATION DE CERTAINES COLONES"
   ]
  },
  {
   "cell_type": "markdown",
   "id": "ea449955",
   "metadata": {},
   "source": [
    "* Pour une meilleure exploitation de mon jeu de données, je décide de renommer certaines colonnes pour bien les comprendre"
   ]
  },
  {
   "cell_type": "raw",
   "id": "e377df2c",
   "metadata": {},
   "source": [
    "* Présentation de la Metadata\n",
    "\n",
    "Informations sur les attributs\n",
    "AGE : Age du patient \n",
    "SEXE : sexe du patient [homme, femme]\n",
    "TDT : type de douleur thoracique [AT : angine typique, AA : angine atypique, DNA : douleur non angineuse, ASY : asymptomatique]\n",
    "PAR : pression artérielle au repos [mm Hg]\n",
    "CHOLESTEROL : cholestérol sÃ©rique [mm/dl]\n",
    "GAJ : glycémie à  jeun [1 : si glycémie Ã  jeun > 120 mg/dl, 0 : sinon]\n",
    "ECG au repos : résultats de l'électrocardiogramme au repos [Normal : normal, ST : présentant une anomalie de l'onde ST-T , HVG : montrant une hypertrophie ventriculaire gauche probable]\n",
    "FCMAX : fréquence cardiaque maximale atteinte \n",
    "ANGINE : angine induite par l'exercice [Oui, Non]\n",
    "DEPRESSION : Valeur numérique mesure en dépression\n",
    "PENTE: la pente du segment ST d'exercice de pointe [Ascendant, Plat, Descendant]\n",
    "COEUR : maladie cardiaque[1 : Présence de la maladie, 0 : Absence de la maladie]"
   ]
  },
  {
   "cell_type": "code",
   "execution_count": 9,
   "id": "cc903855",
   "metadata": {},
   "outputs": [
    {
     "data": {
      "text/html": [
       "<div>\n",
       "<style scoped>\n",
       "    .dataframe tbody tr th:only-of-type {\n",
       "        vertical-align: middle;\n",
       "    }\n",
       "\n",
       "    .dataframe tbody tr th {\n",
       "        vertical-align: top;\n",
       "    }\n",
       "\n",
       "    .dataframe thead th {\n",
       "        text-align: right;\n",
       "    }\n",
       "</style>\n",
       "<table border=\"1\" class=\"dataframe\">\n",
       "  <thead>\n",
       "    <tr style=\"text-align: right;\">\n",
       "      <th></th>\n",
       "      <th>AGE</th>\n",
       "      <th>SEXE</th>\n",
       "      <th>Typ_douleur_thor</th>\n",
       "      <th>Pression_art_orepos</th>\n",
       "      <th>CHOLESTEROL</th>\n",
       "      <th>Glycémie_à_jeun</th>\n",
       "      <th>Result_électrocard</th>\n",
       "      <th>Fréqce_card_max</th>\n",
       "      <th>ANGINE</th>\n",
       "      <th>DEPRESSION</th>\n",
       "      <th>PENTE</th>\n",
       "      <th>CŒUR</th>\n",
       "    </tr>\n",
       "  </thead>\n",
       "  <tbody>\n",
       "    <tr>\n",
       "      <th>0</th>\n",
       "      <td>40</td>\n",
       "      <td>homme</td>\n",
       "      <td>AA</td>\n",
       "      <td>140</td>\n",
       "      <td>289</td>\n",
       "      <td>0</td>\n",
       "      <td>Normal</td>\n",
       "      <td>172</td>\n",
       "      <td>Non</td>\n",
       "      <td>0.0</td>\n",
       "      <td>Ascendant</td>\n",
       "      <td>0</td>\n",
       "    </tr>\n",
       "    <tr>\n",
       "      <th>1</th>\n",
       "      <td>49</td>\n",
       "      <td>femme</td>\n",
       "      <td>DNA</td>\n",
       "      <td>160</td>\n",
       "      <td>180</td>\n",
       "      <td>0</td>\n",
       "      <td>Normal</td>\n",
       "      <td>156</td>\n",
       "      <td>Non</td>\n",
       "      <td>1.0</td>\n",
       "      <td>Plat</td>\n",
       "      <td>1</td>\n",
       "    </tr>\n",
       "    <tr>\n",
       "      <th>2</th>\n",
       "      <td>37</td>\n",
       "      <td>homme</td>\n",
       "      <td>AA</td>\n",
       "      <td>130</td>\n",
       "      <td>283</td>\n",
       "      <td>0</td>\n",
       "      <td>ST</td>\n",
       "      <td>98</td>\n",
       "      <td>Non</td>\n",
       "      <td>0.0</td>\n",
       "      <td>Ascendant</td>\n",
       "      <td>0</td>\n",
       "    </tr>\n",
       "    <tr>\n",
       "      <th>3</th>\n",
       "      <td>48</td>\n",
       "      <td>femme</td>\n",
       "      <td>ASY</td>\n",
       "      <td>138</td>\n",
       "      <td>214</td>\n",
       "      <td>0</td>\n",
       "      <td>Normal</td>\n",
       "      <td>108</td>\n",
       "      <td>Oui</td>\n",
       "      <td>1.5</td>\n",
       "      <td>Plat</td>\n",
       "      <td>1</td>\n",
       "    </tr>\n",
       "    <tr>\n",
       "      <th>4</th>\n",
       "      <td>54</td>\n",
       "      <td>homme</td>\n",
       "      <td>DNA</td>\n",
       "      <td>150</td>\n",
       "      <td>195</td>\n",
       "      <td>0</td>\n",
       "      <td>Normal</td>\n",
       "      <td>122</td>\n",
       "      <td>Non</td>\n",
       "      <td>0.0</td>\n",
       "      <td>Ascendant</td>\n",
       "      <td>0</td>\n",
       "    </tr>\n",
       "  </tbody>\n",
       "</table>\n",
       "</div>"
      ],
      "text/plain": [
       "   AGE   SEXE Typ_douleur_thor  Pression_art_orepos  CHOLESTEROL  \\\n",
       "0   40  homme               AA                  140          289   \n",
       "1   49  femme              DNA                  160          180   \n",
       "2   37  homme               AA                  130          283   \n",
       "3   48  femme              ASY                  138          214   \n",
       "4   54  homme              DNA                  150          195   \n",
       "\n",
       "   Glycémie_à_jeun Result_électrocard  Fréqce_card_max ANGINE  DEPRESSION  \\\n",
       "0                0             Normal              172    Non         0.0   \n",
       "1                0             Normal              156    Non         1.0   \n",
       "2                0                 ST               98    Non         0.0   \n",
       "3                0             Normal              108    Oui         1.5   \n",
       "4                0             Normal              122    Non         0.0   \n",
       "\n",
       "       PENTE  CŒUR  \n",
       "0  Ascendant     0  \n",
       "1       Plat     1  \n",
       "2  Ascendant     0  \n",
       "3       Plat     1  \n",
       "4  Ascendant     0  "
      ]
     },
     "execution_count": 9,
     "metadata": {},
     "output_type": "execute_result"
    }
   ],
   "source": [
    "\n",
    "df1.rename(columns={'TDT': 'Typ_douleur_thor', \n",
    "                  'PAR' : 'Pression_art_orepos',\n",
    "                   'GAJ' : 'Glycémie_à_jeun',\n",
    "                   'ECG' : 'Result_électrocard',\n",
    "                    'FCMAX':'Fréqce_card_max',\n",
    "                    'DEPRESSION ' : 'DEPRESSION'}, inplace=True)\n",
    "df1.head()"
   ]
  },
  {
   "cell_type": "markdown",
   "id": "3dc2fd84",
   "metadata": {},
   "source": [
    "### EXAMEN DE LA VARIABLE CIBLE"
   ]
  },
  {
   "cell_type": "code",
   "execution_count": 10,
   "id": "7c34b260",
   "metadata": {},
   "outputs": [
    {
     "data": {
      "text/plain": [
       "1    508\n",
       "0    410\n",
       "Name: CŒUR, dtype: int64"
      ]
     },
     "execution_count": 10,
     "metadata": {},
     "output_type": "execute_result"
    }
   ],
   "source": [
    "df1['CŒUR'].value_counts()"
   ]
  },
  {
   "cell_type": "code",
   "execution_count": 11,
   "id": "ad1d12c7",
   "metadata": {},
   "outputs": [
    {
     "data": {
      "text/plain": [
       "<AxesSubplot:ylabel='CŒUR'>"
      ]
     },
     "execution_count": 11,
     "metadata": {},
     "output_type": "execute_result"
    },
    {
     "data": {
      "image/png": "[encoded data removed]",
      "text/plain": [
       "<Figure size 432x288 with 1 Axes>"
      ]
     },
     "metadata": {},
     "output_type": "display_data"
    }
   ],
   "source": [
    "df1['CŒUR'].value_counts().plot.pie(autopct = '%1.2f%%')"
   ]
  },
  {
   "cell_type": "markdown",
   "id": "076ab158",
   "metadata": {},
   "source": [
    "* 55.34% de personnes sont atteintes de maladies cardiaques contre 44.66% en bonne santé."
   ]
  },
  {
   "cell_type": "markdown",
   "id": "5a923cb2",
   "metadata": {},
   "source": [
    "### EXAMEN DES VARIABLES QUALITATIVES INDIVIDUELLEMENT"
   ]
  },
  {
   "cell_type": "code",
   "execution_count": 12,
   "id": "f4ad18c9",
   "metadata": {},
   "outputs": [
    {
     "data": {
      "text/plain": [
       "Index(['SEXE', 'Typ_douleur_thor', 'Result_électrocard', 'ANGINE', 'PENTE'], dtype='object')"
      ]
     },
     "execution_count": 12,
     "metadata": {},
     "output_type": "execute_result"
    }
   ],
   "source": [
    "# verification des donnees qualit\n",
    "var_quali = df1.select_dtypes(include=\"object\").columns\n",
    "var_quali"
   ]
  },
  {
   "cell_type": "markdown",
   "id": "9cc3ca37",
   "metadata": {},
   "source": [
    "* En visualisant le dataset, je note la présence de variables quantitatives discrète (binaires : 0, 1). Je décide donc de les ajouter à mes variables qualitatives pour une meilleure exploitation de mon jeu de données"
   ]
  },
  {
   "cell_type": "code",
   "execution_count": 13,
   "id": "f2b2ac95",
   "metadata": {},
   "outputs": [
    {
     "data": {
      "text/html": [
       "<div>\n",
       "<style scoped>\n",
       "    .dataframe tbody tr th:only-of-type {\n",
       "        vertical-align: middle;\n",
       "    }\n",
       "\n",
       "    .dataframe tbody tr th {\n",
       "        vertical-align: top;\n",
       "    }\n",
       "\n",
       "    .dataframe thead th {\n",
       "        text-align: right;\n",
       "    }\n",
       "</style>\n",
       "<table border=\"1\" class=\"dataframe\">\n",
       "  <thead>\n",
       "    <tr style=\"text-align: right;\">\n",
       "      <th></th>\n",
       "      <th>SEXE</th>\n",
       "      <th>Typ_douleur_thor</th>\n",
       "      <th>Result_électrocard</th>\n",
       "      <th>ANGINE</th>\n",
       "      <th>PENTE</th>\n",
       "      <th>Glycémie_à_jeun</th>\n",
       "    </tr>\n",
       "  </thead>\n",
       "  <tbody>\n",
       "    <tr>\n",
       "      <th>0</th>\n",
       "      <td>homme</td>\n",
       "      <td>AA</td>\n",
       "      <td>Normal</td>\n",
       "      <td>Non</td>\n",
       "      <td>Ascendant</td>\n",
       "      <td>0</td>\n",
       "    </tr>\n",
       "    <tr>\n",
       "      <th>1</th>\n",
       "      <td>femme</td>\n",
       "      <td>DNA</td>\n",
       "      <td>Normal</td>\n",
       "      <td>Non</td>\n",
       "      <td>Plat</td>\n",
       "      <td>0</td>\n",
       "    </tr>\n",
       "    <tr>\n",
       "      <th>2</th>\n",
       "      <td>homme</td>\n",
       "      <td>AA</td>\n",
       "      <td>ST</td>\n",
       "      <td>Non</td>\n",
       "      <td>Ascendant</td>\n",
       "      <td>0</td>\n",
       "    </tr>\n",
       "    <tr>\n",
       "      <th>3</th>\n",
       "      <td>femme</td>\n",
       "      <td>ASY</td>\n",
       "      <td>Normal</td>\n",
       "      <td>Oui</td>\n",
       "      <td>Plat</td>\n",
       "      <td>0</td>\n",
       "    </tr>\n",
       "    <tr>\n",
       "      <th>4</th>\n",
       "      <td>homme</td>\n",
       "      <td>DNA</td>\n",
       "      <td>Normal</td>\n",
       "      <td>Non</td>\n",
       "      <td>Ascendant</td>\n",
       "      <td>0</td>\n",
       "    </tr>\n",
       "    <tr>\n",
       "      <th>...</th>\n",
       "      <td>...</td>\n",
       "      <td>...</td>\n",
       "      <td>...</td>\n",
       "      <td>...</td>\n",
       "      <td>...</td>\n",
       "      <td>...</td>\n",
       "    </tr>\n",
       "    <tr>\n",
       "      <th>913</th>\n",
       "      <td>homme</td>\n",
       "      <td>AT</td>\n",
       "      <td>Normal</td>\n",
       "      <td>Non</td>\n",
       "      <td>Plat</td>\n",
       "      <td>0</td>\n",
       "    </tr>\n",
       "    <tr>\n",
       "      <th>914</th>\n",
       "      <td>homme</td>\n",
       "      <td>ASY</td>\n",
       "      <td>Normal</td>\n",
       "      <td>Non</td>\n",
       "      <td>Plat</td>\n",
       "      <td>1</td>\n",
       "    </tr>\n",
       "    <tr>\n",
       "      <th>915</th>\n",
       "      <td>homme</td>\n",
       "      <td>ASY</td>\n",
       "      <td>Normal</td>\n",
       "      <td>Oui</td>\n",
       "      <td>Plat</td>\n",
       "      <td>0</td>\n",
       "    </tr>\n",
       "    <tr>\n",
       "      <th>916</th>\n",
       "      <td>femme</td>\n",
       "      <td>AA</td>\n",
       "      <td>LVH</td>\n",
       "      <td>Non</td>\n",
       "      <td>Plat</td>\n",
       "      <td>0</td>\n",
       "    </tr>\n",
       "    <tr>\n",
       "      <th>917</th>\n",
       "      <td>homme</td>\n",
       "      <td>DNA</td>\n",
       "      <td>Normal</td>\n",
       "      <td>Non</td>\n",
       "      <td>Ascendant</td>\n",
       "      <td>0</td>\n",
       "    </tr>\n",
       "  </tbody>\n",
       "</table>\n",
       "<p>918 rows × 6 columns</p>\n",
       "</div>"
      ],
      "text/plain": [
       "      SEXE Typ_douleur_thor Result_électrocard ANGINE      PENTE  \\\n",
       "0    homme               AA             Normal    Non  Ascendant   \n",
       "1    femme              DNA             Normal    Non       Plat   \n",
       "2    homme               AA                 ST    Non  Ascendant   \n",
       "3    femme              ASY             Normal    Oui       Plat   \n",
       "4    homme              DNA             Normal    Non  Ascendant   \n",
       "..     ...              ...                ...    ...        ...   \n",
       "913  homme               AT             Normal    Non       Plat   \n",
       "914  homme              ASY             Normal    Non       Plat   \n",
       "915  homme              ASY             Normal    Oui       Plat   \n",
       "916  femme               AA                LVH    Non       Plat   \n",
       "917  homme              DNA             Normal    Non  Ascendant   \n",
       "\n",
       "     Glycémie_à_jeun  \n",
       "0                  0  \n",
       "1                  0  \n",
       "2                  0  \n",
       "3                  0  \n",
       "4                  0  \n",
       "..               ...  \n",
       "913                0  \n",
       "914                1  \n",
       "915                0  \n",
       "916                0  \n",
       "917                0  \n",
       "\n",
       "[918 rows x 6 columns]"
      ]
     },
     "execution_count": 13,
     "metadata": {},
     "output_type": "execute_result"
    }
   ],
   "source": [
    "var_quali=df1[['SEXE', 'Typ_douleur_thor', 'Result_électrocard', 'ANGINE', 'PENTE', 'Glycémie_à_jeun']]\n",
    "var_quali"
   ]
  },
  {
   "cell_type": "code",
   "execution_count": 14,
   "id": "d0e7785d",
   "metadata": {},
   "outputs": [
    {
     "data": {
      "image/png": "[encoded data removed]",
      "text/plain": [
       "<Figure size 432x288 with 1 Axes>"
      ]
     },
     "metadata": {},
     "output_type": "display_data"
    },
    {
     "data": {
      "image/png": "[encoded data removed]",
      "text/plain": [
       "<Figure size 432x288 with 1 Axes>"
      ]
     },
     "metadata": {},
     "output_type": "display_data"
    },
    {
     "data": {
      "image/png": "[encoded data removed]",
      "text/plain": [
       "<Figure size 432x288 with 1 Axes>"
      ]
     },
     "metadata": {},
     "output_type": "display_data"
    },
    {
     "data": {
      "image/png": "[encoded data removed]",
      "text/plain": [
       "<Figure size 432x288 with 1 Axes>"
      ]
     },
     "metadata": {},
     "output_type": "display_data"
    },
    {
     "data": {
      "image/png": "[encoded data removed]",
      "text/plain": [
       "<Figure size 432x288 with 1 Axes>"
      ]
     },
     "metadata": {},
     "output_type": "display_data"
    },
    {
     "data": {
      "image/png": "[encoded data removed]",
      "text/plain": [
       "<Figure size 432x288 with 1 Axes>"
      ]
     },
     "metadata": {},
     "output_type": "display_data"
    }
   ],
   "source": [
    "# Viusalisation des variables qualit\n",
    "\n",
    "for col in var_quali:\n",
    "    plt.figure()\n",
    "    df1[col].value_counts().plot.pie(autopct='%1.2f%%')\n",
    "    plt.axis('equal') \n",
    "    plt.legend()\n",
    "    #plt.title('Distribution de ' + col)\n",
    "    plt.tight_layout()"
   ]
  },
  {
   "cell_type": "markdown",
   "id": "2f30c2cc",
   "metadata": {},
   "source": [
    "* Le dataset contient 78.98% d'hommes contre 21.02% de femmes. Ceci est un réel déséquilibre qui peut fausser nos calculs à l'avenir. Normalement on devrait partir sur une base de 50% de chaque ou avec une différence légère."
   ]
  },
  {
   "cell_type": "markdown",
   "id": "b78868f9",
   "metadata": {},
   "source": [
    "### EXAMEN DES VARIABLES QUANTITATIVES INDIVIDUELLEMENT"
   ]
  },
  {
   "cell_type": "code",
   "execution_count": 15,
   "id": "08cf2be4",
   "metadata": {},
   "outputs": [
    {
     "data": {
      "text/html": [
       "<div>\n",
       "<style scoped>\n",
       "    .dataframe tbody tr th:only-of-type {\n",
       "        vertical-align: middle;\n",
       "    }\n",
       "\n",
       "    .dataframe tbody tr th {\n",
       "        vertical-align: top;\n",
       "    }\n",
       "\n",
       "    .dataframe thead th {\n",
       "        text-align: right;\n",
       "    }\n",
       "</style>\n",
       "<table border=\"1\" class=\"dataframe\">\n",
       "  <thead>\n",
       "    <tr style=\"text-align: right;\">\n",
       "      <th></th>\n",
       "      <th>AGE</th>\n",
       "      <th>Pression_art_orepos</th>\n",
       "      <th>CHOLESTEROL</th>\n",
       "      <th>Fréqce_card_max</th>\n",
       "      <th>DEPRESSION</th>\n",
       "    </tr>\n",
       "  </thead>\n",
       "  <tbody>\n",
       "    <tr>\n",
       "      <th>0</th>\n",
       "      <td>40</td>\n",
       "      <td>140</td>\n",
       "      <td>289</td>\n",
       "      <td>172</td>\n",
       "      <td>0.0</td>\n",
       "    </tr>\n",
       "    <tr>\n",
       "      <th>1</th>\n",
       "      <td>49</td>\n",
       "      <td>160</td>\n",
       "      <td>180</td>\n",
       "      <td>156</td>\n",
       "      <td>1.0</td>\n",
       "    </tr>\n",
       "    <tr>\n",
       "      <th>2</th>\n",
       "      <td>37</td>\n",
       "      <td>130</td>\n",
       "      <td>283</td>\n",
       "      <td>98</td>\n",
       "      <td>0.0</td>\n",
       "    </tr>\n",
       "    <tr>\n",
       "      <th>3</th>\n",
       "      <td>48</td>\n",
       "      <td>138</td>\n",
       "      <td>214</td>\n",
       "      <td>108</td>\n",
       "      <td>1.5</td>\n",
       "    </tr>\n",
       "    <tr>\n",
       "      <th>4</th>\n",
       "      <td>54</td>\n",
       "      <td>150</td>\n",
       "      <td>195</td>\n",
       "      <td>122</td>\n",
       "      <td>0.0</td>\n",
       "    </tr>\n",
       "    <tr>\n",
       "      <th>...</th>\n",
       "      <td>...</td>\n",
       "      <td>...</td>\n",
       "      <td>...</td>\n",
       "      <td>...</td>\n",
       "      <td>...</td>\n",
       "    </tr>\n",
       "    <tr>\n",
       "      <th>913</th>\n",
       "      <td>45</td>\n",
       "      <td>110</td>\n",
       "      <td>264</td>\n",
       "      <td>132</td>\n",
       "      <td>1.2</td>\n",
       "    </tr>\n",
       "    <tr>\n",
       "      <th>914</th>\n",
       "      <td>68</td>\n",
       "      <td>144</td>\n",
       "      <td>193</td>\n",
       "      <td>141</td>\n",
       "      <td>3.4</td>\n",
       "    </tr>\n",
       "    <tr>\n",
       "      <th>915</th>\n",
       "      <td>57</td>\n",
       "      <td>130</td>\n",
       "      <td>131</td>\n",
       "      <td>115</td>\n",
       "      <td>1.2</td>\n",
       "    </tr>\n",
       "    <tr>\n",
       "      <th>916</th>\n",
       "      <td>57</td>\n",
       "      <td>130</td>\n",
       "      <td>236</td>\n",
       "      <td>174</td>\n",
       "      <td>0.0</td>\n",
       "    </tr>\n",
       "    <tr>\n",
       "      <th>917</th>\n",
       "      <td>38</td>\n",
       "      <td>138</td>\n",
       "      <td>175</td>\n",
       "      <td>173</td>\n",
       "      <td>0.0</td>\n",
       "    </tr>\n",
       "  </tbody>\n",
       "</table>\n",
       "<p>918 rows × 5 columns</p>\n",
       "</div>"
      ],
      "text/plain": [
       "     AGE  Pression_art_orepos  CHOLESTEROL  Fréqce_card_max  DEPRESSION\n",
       "0     40                  140          289              172         0.0\n",
       "1     49                  160          180              156         1.0\n",
       "2     37                  130          283               98         0.0\n",
       "3     48                  138          214              108         1.5\n",
       "4     54                  150          195              122         0.0\n",
       "..   ...                  ...          ...              ...         ...\n",
       "913   45                  110          264              132         1.2\n",
       "914   68                  144          193              141         3.4\n",
       "915   57                  130          131              115         1.2\n",
       "916   57                  130          236              174         0.0\n",
       "917   38                  138          175              173         0.0\n",
       "\n",
       "[918 rows x 5 columns]"
      ]
     },
     "execution_count": 15,
     "metadata": {},
     "output_type": "execute_result"
    }
   ],
   "source": [
    "var_quant = df1[['AGE', 'Pression_art_orepos', 'CHOLESTEROL',\n",
    "       'Fréqce_card_max', 'DEPRESSION']]\n",
    "var_quant"
   ]
  },
  {
   "cell_type": "code",
   "execution_count": 16,
   "id": "39303312",
   "metadata": {},
   "outputs": [],
   "source": [
    "from scipy.stats import norm"
   ]
  },
  {
   "cell_type": "code",
   "execution_count": 17,
   "id": "3e3378d4",
   "metadata": {
    "scrolled": false
   },
   "outputs": [
    {
     "data": {
      "image/png": "[encoded data removed]",
      "text/plain": [
       "<Figure size 936x504 with 1 Axes>"
      ]
     },
     "metadata": {
      "needs_background": "light"
     },
     "output_type": "display_data"
    },
    {
     "data": {
      "image/png": "[encoded data removed]",
      "text/plain": [
       "<Figure size 936x504 with 1 Axes>"
      ]
     },
     "metadata": {
      "needs_background": "light"
     },
     "output_type": "display_data"
    },
    {
     "data": {
      "image/png": "[encoded data removed]",
      "text/plain": [
       "<Figure size 936x504 with 1 Axes>"
      ]
     },
     "metadata": {
      "needs_background": "light"
     },
     "output_type": "display_data"
    },
    {
     "data": {
      "image/png": "[encoded data removed]",
      "text/plain": [
       "<Figure size 936x504 with 1 Axes>"
      ]
     },
     "metadata": {
      "needs_background": "light"
     },
     "output_type": "display_data"
    },
    {
     "data": {
      "image/png": "[encoded data removed]",
      "text/plain": [
       "<Figure size 936x504 with 1 Axes>"
      ]
     },
     "metadata": {
      "needs_background": "light"
     },
     "output_type": "display_data"
    }
   ],
   "source": [
    "# Visualistaion des variables quantitatives\n",
    "\n",
    "for col in var_quant:\n",
    "    plt.figure(figsize=(13,7))\n",
    "    sns.distplot(var_quant[col], fit=norm)"
   ]
  },
  {
   "cell_type": "code",
   "execution_count": 18,
   "id": "21ce667f",
   "metadata": {
    "scrolled": true
   },
   "outputs": [
    {
     "data": {
      "text/html": [
       "<div>\n",
       "<style scoped>\n",
       "    .dataframe tbody tr th:only-of-type {\n",
       "        vertical-align: middle;\n",
       "    }\n",
       "\n",
       "    .dataframe tbody tr th {\n",
       "        vertical-align: top;\n",
       "    }\n",
       "\n",
       "    .dataframe thead th {\n",
       "        text-align: right;\n",
       "    }\n",
       "</style>\n",
       "<table border=\"1\" class=\"dataframe\">\n",
       "  <thead>\n",
       "    <tr style=\"text-align: right;\">\n",
       "      <th></th>\n",
       "      <th>AGE</th>\n",
       "      <th>Pression_art_orepos</th>\n",
       "      <th>CHOLESTEROL</th>\n",
       "      <th>Fréqce_card_max</th>\n",
       "      <th>DEPRESSION</th>\n",
       "    </tr>\n",
       "  </thead>\n",
       "  <tbody>\n",
       "    <tr>\n",
       "      <th>count</th>\n",
       "      <td>918.000000</td>\n",
       "      <td>918.000000</td>\n",
       "      <td>918.000000</td>\n",
       "      <td>918.000000</td>\n",
       "      <td>918.000000</td>\n",
       "    </tr>\n",
       "    <tr>\n",
       "      <th>mean</th>\n",
       "      <td>53.510893</td>\n",
       "      <td>132.396514</td>\n",
       "      <td>198.799564</td>\n",
       "      <td>136.809368</td>\n",
       "      <td>0.887364</td>\n",
       "    </tr>\n",
       "    <tr>\n",
       "      <th>std</th>\n",
       "      <td>9.432617</td>\n",
       "      <td>18.514154</td>\n",
       "      <td>109.384145</td>\n",
       "      <td>25.460334</td>\n",
       "      <td>1.066570</td>\n",
       "    </tr>\n",
       "    <tr>\n",
       "      <th>min</th>\n",
       "      <td>28.000000</td>\n",
       "      <td>0.000000</td>\n",
       "      <td>0.000000</td>\n",
       "      <td>60.000000</td>\n",
       "      <td>-2.600000</td>\n",
       "    </tr>\n",
       "    <tr>\n",
       "      <th>25%</th>\n",
       "      <td>47.000000</td>\n",
       "      <td>120.000000</td>\n",
       "      <td>173.250000</td>\n",
       "      <td>120.000000</td>\n",
       "      <td>0.000000</td>\n",
       "    </tr>\n",
       "    <tr>\n",
       "      <th>médiane</th>\n",
       "      <td>54.000000</td>\n",
       "      <td>130.000000</td>\n",
       "      <td>223.000000</td>\n",
       "      <td>138.000000</td>\n",
       "      <td>0.600000</td>\n",
       "    </tr>\n",
       "    <tr>\n",
       "      <th>75%</th>\n",
       "      <td>60.000000</td>\n",
       "      <td>140.000000</td>\n",
       "      <td>267.000000</td>\n",
       "      <td>156.000000</td>\n",
       "      <td>1.500000</td>\n",
       "    </tr>\n",
       "    <tr>\n",
       "      <th>max</th>\n",
       "      <td>77.000000</td>\n",
       "      <td>200.000000</td>\n",
       "      <td>603.000000</td>\n",
       "      <td>202.000000</td>\n",
       "      <td>6.200000</td>\n",
       "    </tr>\n",
       "  </tbody>\n",
       "</table>\n",
       "</div>"
      ],
      "text/plain": [
       "                AGE  Pression_art_orepos  CHOLESTEROL  Fréqce_card_max  \\\n",
       "count    918.000000           918.000000   918.000000       918.000000   \n",
       "mean      53.510893           132.396514   198.799564       136.809368   \n",
       "std        9.432617            18.514154   109.384145        25.460334   \n",
       "min       28.000000             0.000000     0.000000        60.000000   \n",
       "25%       47.000000           120.000000   173.250000       120.000000   \n",
       "médiane   54.000000           130.000000   223.000000       138.000000   \n",
       "75%       60.000000           140.000000   267.000000       156.000000   \n",
       "max       77.000000           200.000000   603.000000       202.000000   \n",
       "\n",
       "         DEPRESSION  \n",
       "count    918.000000  \n",
       "mean       0.887364  \n",
       "std        1.066570  \n",
       "min       -2.600000  \n",
       "25%        0.000000  \n",
       "médiane    0.600000  \n",
       "75%        1.500000  \n",
       "max        6.200000  "
      ]
     },
     "execution_count": 18,
     "metadata": {},
     "output_type": "execute_result"
    }
   ],
   "source": [
    "var_quant.describe().rename({\"50%\":'médiane'})"
   ]
  },
  {
   "cell_type": "markdown",
   "id": "174e58dc",
   "metadata": {},
   "source": [
    "* Au regard des distributions sur le graphique, les variables 'AGE', 'Pression_art_orepos' et 'Fréqce_card_max' suivent une loi normale. Cela s'explique par le fait que la moyenne de chacune d'elle est presqu'égale à la médiane.\n",
    "\n",
    "* Les variables 'CHOLESTEROL' et 'DEPRESSION' ont des distributions asymétriques. Cela s'explique par le fait que la moyenne de chacune d'elle est différente de la médiane. par exemple, 'CHOLESTEROL' a une moyenne de 198.79 contre une médiane de 223.0"
   ]
  },
  {
   "cell_type": "markdown",
   "id": "2d3e453b",
   "metadata": {},
   "source": [
    "### EXAMEN DES VARIABLES QUANTITATIVES 2 A 2"
   ]
  },
  {
   "cell_type": "code",
   "execution_count": 19,
   "id": "e391a0a8",
   "metadata": {
    "scrolled": true
   },
   "outputs": [
    {
     "data": {
      "text/plain": [
       "<AxesSubplot:>"
      ]
     },
     "execution_count": 19,
     "metadata": {},
     "output_type": "execute_result"
    },
    {
     "data": {
      "image/png": "[encoded data removed]",
      "text/plain": [
       "<Figure size 432x288 with 2 Axes>"
      ]
     },
     "metadata": {
      "needs_background": "light"
     },
     "output_type": "display_data"
    }
   ],
   "source": [
    "sns.heatmap(var_quant.corr(), annot=True)"
   ]
  },
  {
   "cell_type": "markdown",
   "id": "cb3011d4",
   "metadata": {},
   "source": [
    "* On constate que les variables ci-dessus n'entretiennent pas de rapport de corrélation.\n",
    "   * L'AGE et la fréquence cardiaque maximale sont corrélés négativement. Cela dit, plus l'age des personnes est avancée, plus leur Fréquence cardiaque est faible.\n",
    "   * La fréquence cardiaque et la Dépression entretiennent un rapport de corrélation négative. En clair,  Lorsque la fréquence cardiaque est élévée, le risque de faire nune dépression est faible."
   ]
  },
  {
   "cell_type": "markdown",
   "id": "bfeb92a2",
   "metadata": {},
   "source": [
    "### EXAMEN TARGET / VARIABLES QUALIT"
   ]
  },
  {
   "cell_type": "code",
   "execution_count": 20,
   "id": "96323759",
   "metadata": {},
   "outputs": [
    {
     "data": {
      "image/png": "[encoded data removed]",
      "text/plain": [
       "<Figure size 432x288 with 1 Axes>"
      ]
     },
     "metadata": {
      "needs_background": "light"
     },
     "output_type": "display_data"
    },
    {
     "data": {
      "image/png": "[encoded data removed]",
      "text/plain": [
       "<Figure size 432x288 with 1 Axes>"
      ]
     },
     "metadata": {
      "needs_background": "light"
     },
     "output_type": "display_data"
    },
    {
     "data": {
      "image/png": "[encoded data removed]",
      "text/plain": [
       "<Figure size 432x288 with 1 Axes>"
      ]
     },
     "metadata": {
      "needs_background": "light"
     },
     "output_type": "display_data"
    },
    {
     "data": {
      "image/png": "[encoded data removed]",
      "text/plain": [
       "<Figure size 432x288 with 1 Axes>"
      ]
     },
     "metadata": {
      "needs_background": "light"
     },
     "output_type": "display_data"
    },
    {
     "data": {
      "image/png": "[encoded data removed]",
      "text/plain": [
       "<Figure size 432x288 with 1 Axes>"
      ]
     },
     "metadata": {
      "needs_background": "light"
     },
     "output_type": "display_data"
    },
    {
     "data": {
      "image/png": "[encoded data removed]",
      "text/plain": [
       "<Figure size 432x288 with 1 Axes>"
      ]
     },
     "metadata": {
      "needs_background": "light"
     },
     "output_type": "display_data"
    }
   ],
   "source": [
    "for col in var_quali.columns:\n",
    "    plt.figure()\n",
    "    sns.countplot(x = col, hue = 'CŒUR', data = df1)"
   ]
  },
  {
   "cell_type": "markdown",
   "id": "d866199b",
   "metadata": {},
   "source": [
    "* La proportion d'hommes atteint de maladie cardiaque est plus élévé que celui des femmes. Par conséquent on peut supposer que les hommes sont le plus succeptible de faire la maladie\n",
    "* Au nombre des types de douleur thoracique (TDT), la douleur asymptomatique (ASY) est fortement causé par les maladies cardiques car elles présentent toutes 2 un fort taux de corrélation."
   ]
  },
  {
   "cell_type": "markdown",
   "id": "a532476d",
   "metadata": {},
   "source": [
    "### EXAMEN TARGET / VARIABLES QUANTIT"
   ]
  },
  {
   "cell_type": "code",
   "execution_count": 21,
   "id": "6c1872b3",
   "metadata": {},
   "outputs": [
    {
     "data": {
      "text/html": [
       "<div>\n",
       "<style scoped>\n",
       "    .dataframe tbody tr th:only-of-type {\n",
       "        vertical-align: middle;\n",
       "    }\n",
       "\n",
       "    .dataframe tbody tr th {\n",
       "        vertical-align: top;\n",
       "    }\n",
       "\n",
       "    .dataframe thead th {\n",
       "        text-align: right;\n",
       "    }\n",
       "</style>\n",
       "<table border=\"1\" class=\"dataframe\">\n",
       "  <thead>\n",
       "    <tr style=\"text-align: right;\">\n",
       "      <th></th>\n",
       "      <th>AGE</th>\n",
       "      <th>Pression_art_orepos</th>\n",
       "      <th>CHOLESTEROL</th>\n",
       "      <th>Fréqce_card_max</th>\n",
       "      <th>DEPRESSION</th>\n",
       "    </tr>\n",
       "  </thead>\n",
       "  <tbody>\n",
       "    <tr>\n",
       "      <th>0</th>\n",
       "      <td>40</td>\n",
       "      <td>140</td>\n",
       "      <td>289</td>\n",
       "      <td>172</td>\n",
       "      <td>0.0</td>\n",
       "    </tr>\n",
       "    <tr>\n",
       "      <th>1</th>\n",
       "      <td>49</td>\n",
       "      <td>160</td>\n",
       "      <td>180</td>\n",
       "      <td>156</td>\n",
       "      <td>1.0</td>\n",
       "    </tr>\n",
       "    <tr>\n",
       "      <th>2</th>\n",
       "      <td>37</td>\n",
       "      <td>130</td>\n",
       "      <td>283</td>\n",
       "      <td>98</td>\n",
       "      <td>0.0</td>\n",
       "    </tr>\n",
       "    <tr>\n",
       "      <th>3</th>\n",
       "      <td>48</td>\n",
       "      <td>138</td>\n",
       "      <td>214</td>\n",
       "      <td>108</td>\n",
       "      <td>1.5</td>\n",
       "    </tr>\n",
       "    <tr>\n",
       "      <th>4</th>\n",
       "      <td>54</td>\n",
       "      <td>150</td>\n",
       "      <td>195</td>\n",
       "      <td>122</td>\n",
       "      <td>0.0</td>\n",
       "    </tr>\n",
       "    <tr>\n",
       "      <th>...</th>\n",
       "      <td>...</td>\n",
       "      <td>...</td>\n",
       "      <td>...</td>\n",
       "      <td>...</td>\n",
       "      <td>...</td>\n",
       "    </tr>\n",
       "    <tr>\n",
       "      <th>913</th>\n",
       "      <td>45</td>\n",
       "      <td>110</td>\n",
       "      <td>264</td>\n",
       "      <td>132</td>\n",
       "      <td>1.2</td>\n",
       "    </tr>\n",
       "    <tr>\n",
       "      <th>914</th>\n",
       "      <td>68</td>\n",
       "      <td>144</td>\n",
       "      <td>193</td>\n",
       "      <td>141</td>\n",
       "      <td>3.4</td>\n",
       "    </tr>\n",
       "    <tr>\n",
       "      <th>915</th>\n",
       "      <td>57</td>\n",
       "      <td>130</td>\n",
       "      <td>131</td>\n",
       "      <td>115</td>\n",
       "      <td>1.2</td>\n",
       "    </tr>\n",
       "    <tr>\n",
       "      <th>916</th>\n",
       "      <td>57</td>\n",
       "      <td>130</td>\n",
       "      <td>236</td>\n",
       "      <td>174</td>\n",
       "      <td>0.0</td>\n",
       "    </tr>\n",
       "    <tr>\n",
       "      <th>917</th>\n",
       "      <td>38</td>\n",
       "      <td>138</td>\n",
       "      <td>175</td>\n",
       "      <td>173</td>\n",
       "      <td>0.0</td>\n",
       "    </tr>\n",
       "  </tbody>\n",
       "</table>\n",
       "<p>918 rows × 5 columns</p>\n",
       "</div>"
      ],
      "text/plain": [
       "     AGE  Pression_art_orepos  CHOLESTEROL  Fréqce_card_max  DEPRESSION\n",
       "0     40                  140          289              172         0.0\n",
       "1     49                  160          180              156         1.0\n",
       "2     37                  130          283               98         0.0\n",
       "3     48                  138          214              108         1.5\n",
       "4     54                  150          195              122         0.0\n",
       "..   ...                  ...          ...              ...         ...\n",
       "913   45                  110          264              132         1.2\n",
       "914   68                  144          193              141         3.4\n",
       "915   57                  130          131              115         1.2\n",
       "916   57                  130          236              174         0.0\n",
       "917   38                  138          175              173         0.0\n",
       "\n",
       "[918 rows x 5 columns]"
      ]
     },
     "execution_count": 21,
     "metadata": {},
     "output_type": "execute_result"
    }
   ],
   "source": [
    "var_quant"
   ]
  },
  {
   "cell_type": "code",
   "execution_count": 22,
   "id": "e1776bd8",
   "metadata": {},
   "outputs": [],
   "source": [
    "pres_maladie = df1[(df1[\"CŒUR\"] == 1)]"
   ]
  },
  {
   "cell_type": "code",
   "execution_count": 23,
   "id": "777a2661",
   "metadata": {},
   "outputs": [],
   "source": [
    "absce_maladie = df1[(df1[\"CŒUR\"] == 0)]"
   ]
  },
  {
   "cell_type": "code",
   "execution_count": 24,
   "id": "8da1a220",
   "metadata": {},
   "outputs": [
    {
     "data": {
      "image/png": "[encoded data removed]",
      "text/plain": [
       "<Figure size 432x288 with 1 Axes>"
      ]
     },
     "metadata": {
      "needs_background": "light"
     },
     "output_type": "display_data"
    },
    {
     "data": {
      "image/png": "[encoded data removed]",
      "text/plain": [
       "<Figure size 432x288 with 1 Axes>"
      ]
     },
     "metadata": {
      "needs_background": "light"
     },
     "output_type": "display_data"
    },
    {
     "data": {
      "image/png": "[encoded data removed]",
      "text/plain": [
       "<Figure size 432x288 with 1 Axes>"
      ]
     },
     "metadata": {
      "needs_background": "light"
     },
     "output_type": "display_data"
    },
    {
     "data": {
      "image/png": "[encoded data removed]",
      "text/plain": [
       "<Figure size 432x288 with 1 Axes>"
      ]
     },
     "metadata": {
      "needs_background": "light"
     },
     "output_type": "display_data"
    },
    {
     "data": {
      "image/png": "[encoded data removed]",
      "text/plain": [
       "<Figure size 432x288 with 1 Axes>"
      ]
     },
     "metadata": {
      "needs_background": "light"
     },
     "output_type": "display_data"
    }
   ],
   "source": [
    "for col in var_quant:\n",
    "    plt.figure()\n",
    "    sns.distplot(pres_maladie[col], label=\"Presence\")\n",
    "    sns.distplot(absce_maladie[col], label=\"absence\")\n",
    "    plt.legend()"
   ]
  },
  {
   "cell_type": "markdown",
   "id": "63c2e530",
   "metadata": {},
   "source": [
    "* Il est possible que l'age soit un facteur favorisant la présence d'une maladie cardiaque chez un individu car il y a un décalage entre la distribution des personnes malades et des personnes en bonne santé.\n",
    "* La pression artérielle, le taux de choléresterol et la dépression ne permetent pas d'expliquer la présence ou l'absence maladie cardiaque chez un individu donné.\n",
    "* Il est possible que la fréquence cardiaque soit un facteur favorisant la présence d'une maladie cardiaque chez un individu car il y a un décalage au niveau de la distribution."
   ]
  },
  {
   "cell_type": "markdown",
   "id": "b97348bf",
   "metadata": {},
   "source": [
    "# PRE-PROCESSING"
   ]
  },
  {
   "cell_type": "markdown",
   "id": "78fcb9d2",
   "metadata": {},
   "source": [
    "### 1. Encodage des variables qualitatives "
   ]
  },
  {
   "cell_type": "code",
   "execution_count": 25,
   "id": "8af91533",
   "metadata": {},
   "outputs": [
    {
     "name": "stdout",
     "output_type": "stream",
     "text": [
      "homme    725\n",
      "femme    193\n",
      "Name: SEXE, dtype: int64\n",
      "ASY    496\n",
      "DNA    203\n",
      "AA     173\n",
      "AT      46\n",
      "Name: Typ_douleur_thor, dtype: int64\n",
      "Normal    552\n",
      "LVH       188\n",
      "ST        178\n",
      "Name: Result_électrocard, dtype: int64\n",
      "Non    547\n",
      "Oui    371\n",
      "Name: ANGINE, dtype: int64\n",
      "Plat          460\n",
      "Ascendant     395\n",
      "Descendant     63\n",
      "Name: PENTE, dtype: int64\n",
      "0    704\n",
      "1    214\n",
      "Name: Glycémie_à_jeun, dtype: int64\n"
     ]
    }
   ],
   "source": [
    "for col in var_quali.columns:\n",
    "    print(var_quali[col].value_counts())"
   ]
  },
  {
   "cell_type": "code",
   "execution_count": 26,
   "id": "b6560697",
   "metadata": {},
   "outputs": [],
   "source": [
    "def encodage(var_quali):\n",
    "    code = {'homme':0,\n",
    "            'femme':1,\n",
    "            'ASY' : 0,\n",
    "            'DNA' : 1,\n",
    "            'AA' : 2,\n",
    "            'AT':3,\n",
    "            'Normal': 0,\n",
    "            'LVH':1,\n",
    "            'ST':2,\n",
    "            'Non':0,\n",
    "            'Oui':1,\n",
    "            'Plat':0,\n",
    "            'Ascendant':1,\n",
    "            'Descendant':2\n",
    "            }\n",
    "    for col in var_quali.select_dtypes('object'):\n",
    "        var_quali[col] = var_quali[col].map(code)\n",
    "   \n",
    "    return var_quali"
   ]
  },
  {
   "cell_type": "code",
   "execution_count": 27,
   "id": "a05f3388",
   "metadata": {},
   "outputs": [
    {
     "data": {
      "text/html": [
       "<div>\n",
       "<style scoped>\n",
       "    .dataframe tbody tr th:only-of-type {\n",
       "        vertical-align: middle;\n",
       "    }\n",
       "\n",
       "    .dataframe tbody tr th {\n",
       "        vertical-align: top;\n",
       "    }\n",
       "\n",
       "    .dataframe thead th {\n",
       "        text-align: right;\n",
       "    }\n",
       "</style>\n",
       "<table border=\"1\" class=\"dataframe\">\n",
       "  <thead>\n",
       "    <tr style=\"text-align: right;\">\n",
       "      <th></th>\n",
       "      <th>SEXE</th>\n",
       "      <th>Typ_douleur_thor</th>\n",
       "      <th>Result_électrocard</th>\n",
       "      <th>ANGINE</th>\n",
       "      <th>PENTE</th>\n",
       "      <th>Glycémie_à_jeun</th>\n",
       "    </tr>\n",
       "  </thead>\n",
       "  <tbody>\n",
       "    <tr>\n",
       "      <th>0</th>\n",
       "      <td>0</td>\n",
       "      <td>2</td>\n",
       "      <td>0</td>\n",
       "      <td>0</td>\n",
       "      <td>1</td>\n",
       "      <td>0</td>\n",
       "    </tr>\n",
       "    <tr>\n",
       "      <th>1</th>\n",
       "      <td>1</td>\n",
       "      <td>1</td>\n",
       "      <td>0</td>\n",
       "      <td>0</td>\n",
       "      <td>0</td>\n",
       "      <td>0</td>\n",
       "    </tr>\n",
       "    <tr>\n",
       "      <th>2</th>\n",
       "      <td>0</td>\n",
       "      <td>2</td>\n",
       "      <td>2</td>\n",
       "      <td>0</td>\n",
       "      <td>1</td>\n",
       "      <td>0</td>\n",
       "    </tr>\n",
       "    <tr>\n",
       "      <th>3</th>\n",
       "      <td>1</td>\n",
       "      <td>0</td>\n",
       "      <td>0</td>\n",
       "      <td>1</td>\n",
       "      <td>0</td>\n",
       "      <td>0</td>\n",
       "    </tr>\n",
       "    <tr>\n",
       "      <th>4</th>\n",
       "      <td>0</td>\n",
       "      <td>1</td>\n",
       "      <td>0</td>\n",
       "      <td>0</td>\n",
       "      <td>1</td>\n",
       "      <td>0</td>\n",
       "    </tr>\n",
       "    <tr>\n",
       "      <th>...</th>\n",
       "      <td>...</td>\n",
       "      <td>...</td>\n",
       "      <td>...</td>\n",
       "      <td>...</td>\n",
       "      <td>...</td>\n",
       "      <td>...</td>\n",
       "    </tr>\n",
       "    <tr>\n",
       "      <th>913</th>\n",
       "      <td>0</td>\n",
       "      <td>3</td>\n",
       "      <td>0</td>\n",
       "      <td>0</td>\n",
       "      <td>0</td>\n",
       "      <td>0</td>\n",
       "    </tr>\n",
       "    <tr>\n",
       "      <th>914</th>\n",
       "      <td>0</td>\n",
       "      <td>0</td>\n",
       "      <td>0</td>\n",
       "      <td>0</td>\n",
       "      <td>0</td>\n",
       "      <td>1</td>\n",
       "    </tr>\n",
       "    <tr>\n",
       "      <th>915</th>\n",
       "      <td>0</td>\n",
       "      <td>0</td>\n",
       "      <td>0</td>\n",
       "      <td>1</td>\n",
       "      <td>0</td>\n",
       "      <td>0</td>\n",
       "    </tr>\n",
       "    <tr>\n",
       "      <th>916</th>\n",
       "      <td>1</td>\n",
       "      <td>2</td>\n",
       "      <td>1</td>\n",
       "      <td>0</td>\n",
       "      <td>0</td>\n",
       "      <td>0</td>\n",
       "    </tr>\n",
       "    <tr>\n",
       "      <th>917</th>\n",
       "      <td>0</td>\n",
       "      <td>1</td>\n",
       "      <td>0</td>\n",
       "      <td>0</td>\n",
       "      <td>1</td>\n",
       "      <td>0</td>\n",
       "    </tr>\n",
       "  </tbody>\n",
       "</table>\n",
       "<p>918 rows × 6 columns</p>\n",
       "</div>"
      ],
      "text/plain": [
       "     SEXE  Typ_douleur_thor  Result_électrocard  ANGINE  PENTE  \\\n",
       "0       0                 2                   0       0      1   \n",
       "1       1                 1                   0       0      0   \n",
       "2       0                 2                   2       0      1   \n",
       "3       1                 0                   0       1      0   \n",
       "4       0                 1                   0       0      1   \n",
       "..    ...               ...                 ...     ...    ...   \n",
       "913     0                 3                   0       0      0   \n",
       "914     0                 0                   0       0      0   \n",
       "915     0                 0                   0       1      0   \n",
       "916     1                 2                   1       0      0   \n",
       "917     0                 1                   0       0      1   \n",
       "\n",
       "     Glycémie_à_jeun  \n",
       "0                  0  \n",
       "1                  0  \n",
       "2                  0  \n",
       "3                  0  \n",
       "4                  0  \n",
       "..               ...  \n",
       "913                0  \n",
       "914                1  \n",
       "915                0  \n",
       "916                0  \n",
       "917                0  \n",
       "\n",
       "[918 rows x 6 columns]"
      ]
     },
     "execution_count": 27,
     "metadata": {},
     "output_type": "execute_result"
    }
   ],
   "source": [
    "encodage(var_quali)"
   ]
  },
  {
   "cell_type": "markdown",
   "id": "49365e2f",
   "metadata": {},
   "source": [
    "### 2. Normalisation des variables quantitatives"
   ]
  },
  {
   "cell_type": "code",
   "execution_count": 28,
   "id": "cd9d341f",
   "metadata": {},
   "outputs": [],
   "source": [
    "from sklearn.preprocessing import StandardScaler"
   ]
  },
  {
   "cell_type": "code",
   "execution_count": 29,
   "id": "56c8194d",
   "metadata": {},
   "outputs": [
    {
     "data": {
      "text/html": [
       "<div>\n",
       "<style scoped>\n",
       "    .dataframe tbody tr th:only-of-type {\n",
       "        vertical-align: middle;\n",
       "    }\n",
       "\n",
       "    .dataframe tbody tr th {\n",
       "        vertical-align: top;\n",
       "    }\n",
       "\n",
       "    .dataframe thead th {\n",
       "        text-align: right;\n",
       "    }\n",
       "</style>\n",
       "<table border=\"1\" class=\"dataframe\">\n",
       "  <thead>\n",
       "    <tr style=\"text-align: right;\">\n",
       "      <th></th>\n",
       "      <th>AGE</th>\n",
       "      <th>Pression_art_orepos</th>\n",
       "      <th>CHOLESTEROL</th>\n",
       "      <th>Fréqce_card_max</th>\n",
       "      <th>DEPRESSION</th>\n",
       "    </tr>\n",
       "  </thead>\n",
       "  <tbody>\n",
       "    <tr>\n",
       "      <th>0</th>\n",
       "      <td>40</td>\n",
       "      <td>140</td>\n",
       "      <td>289</td>\n",
       "      <td>172</td>\n",
       "      <td>0.0</td>\n",
       "    </tr>\n",
       "    <tr>\n",
       "      <th>1</th>\n",
       "      <td>49</td>\n",
       "      <td>160</td>\n",
       "      <td>180</td>\n",
       "      <td>156</td>\n",
       "      <td>1.0</td>\n",
       "    </tr>\n",
       "    <tr>\n",
       "      <th>2</th>\n",
       "      <td>37</td>\n",
       "      <td>130</td>\n",
       "      <td>283</td>\n",
       "      <td>98</td>\n",
       "      <td>0.0</td>\n",
       "    </tr>\n",
       "    <tr>\n",
       "      <th>3</th>\n",
       "      <td>48</td>\n",
       "      <td>138</td>\n",
       "      <td>214</td>\n",
       "      <td>108</td>\n",
       "      <td>1.5</td>\n",
       "    </tr>\n",
       "    <tr>\n",
       "      <th>4</th>\n",
       "      <td>54</td>\n",
       "      <td>150</td>\n",
       "      <td>195</td>\n",
       "      <td>122</td>\n",
       "      <td>0.0</td>\n",
       "    </tr>\n",
       "    <tr>\n",
       "      <th>...</th>\n",
       "      <td>...</td>\n",
       "      <td>...</td>\n",
       "      <td>...</td>\n",
       "      <td>...</td>\n",
       "      <td>...</td>\n",
       "    </tr>\n",
       "    <tr>\n",
       "      <th>913</th>\n",
       "      <td>45</td>\n",
       "      <td>110</td>\n",
       "      <td>264</td>\n",
       "      <td>132</td>\n",
       "      <td>1.2</td>\n",
       "    </tr>\n",
       "    <tr>\n",
       "      <th>914</th>\n",
       "      <td>68</td>\n",
       "      <td>144</td>\n",
       "      <td>193</td>\n",
       "      <td>141</td>\n",
       "      <td>3.4</td>\n",
       "    </tr>\n",
       "    <tr>\n",
       "      <th>915</th>\n",
       "      <td>57</td>\n",
       "      <td>130</td>\n",
       "      <td>131</td>\n",
       "      <td>115</td>\n",
       "      <td>1.2</td>\n",
       "    </tr>\n",
       "    <tr>\n",
       "      <th>916</th>\n",
       "      <td>57</td>\n",
       "      <td>130</td>\n",
       "      <td>236</td>\n",
       "      <td>174</td>\n",
       "      <td>0.0</td>\n",
       "    </tr>\n",
       "    <tr>\n",
       "      <th>917</th>\n",
       "      <td>38</td>\n",
       "      <td>138</td>\n",
       "      <td>175</td>\n",
       "      <td>173</td>\n",
       "      <td>0.0</td>\n",
       "    </tr>\n",
       "  </tbody>\n",
       "</table>\n",
       "<p>918 rows × 5 columns</p>\n",
       "</div>"
      ],
      "text/plain": [
       "     AGE  Pression_art_orepos  CHOLESTEROL  Fréqce_card_max  DEPRESSION\n",
       "0     40                  140          289              172         0.0\n",
       "1     49                  160          180              156         1.0\n",
       "2     37                  130          283               98         0.0\n",
       "3     48                  138          214              108         1.5\n",
       "4     54                  150          195              122         0.0\n",
       "..   ...                  ...          ...              ...         ...\n",
       "913   45                  110          264              132         1.2\n",
       "914   68                  144          193              141         3.4\n",
       "915   57                  130          131              115         1.2\n",
       "916   57                  130          236              174         0.0\n",
       "917   38                  138          175              173         0.0\n",
       "\n",
       "[918 rows x 5 columns]"
      ]
     },
     "execution_count": 29,
     "metadata": {},
     "output_type": "execute_result"
    }
   ],
   "source": [
    "var_quant"
   ]
  },
  {
   "cell_type": "code",
   "execution_count": 30,
   "id": "c7e57776",
   "metadata": {},
   "outputs": [
    {
     "data": {
      "text/html": [
       "<div>\n",
       "<style scoped>\n",
       "    .dataframe tbody tr th:only-of-type {\n",
       "        vertical-align: middle;\n",
       "    }\n",
       "\n",
       "    .dataframe tbody tr th {\n",
       "        vertical-align: top;\n",
       "    }\n",
       "\n",
       "    .dataframe thead th {\n",
       "        text-align: right;\n",
       "    }\n",
       "</style>\n",
       "<table border=\"1\" class=\"dataframe\">\n",
       "  <thead>\n",
       "    <tr style=\"text-align: right;\">\n",
       "      <th></th>\n",
       "      <th>AGE</th>\n",
       "      <th>Pression_art_orepos</th>\n",
       "      <th>CHOLESTEROL</th>\n",
       "      <th>Fréqce_card_max</th>\n",
       "      <th>DEPRESSION</th>\n",
       "    </tr>\n",
       "  </thead>\n",
       "  <tbody>\n",
       "    <tr>\n",
       "      <th>0</th>\n",
       "      <td>-1.433140</td>\n",
       "      <td>0.410909</td>\n",
       "      <td>0.825070</td>\n",
       "      <td>1.382928</td>\n",
       "      <td>-0.832432</td>\n",
       "    </tr>\n",
       "    <tr>\n",
       "      <th>1</th>\n",
       "      <td>-0.478484</td>\n",
       "      <td>1.491752</td>\n",
       "      <td>-0.171961</td>\n",
       "      <td>0.754157</td>\n",
       "      <td>0.105664</td>\n",
       "    </tr>\n",
       "    <tr>\n",
       "      <th>2</th>\n",
       "      <td>-1.751359</td>\n",
       "      <td>-0.129513</td>\n",
       "      <td>0.770188</td>\n",
       "      <td>-1.525138</td>\n",
       "      <td>-0.832432</td>\n",
       "    </tr>\n",
       "    <tr>\n",
       "      <th>3</th>\n",
       "      <td>-0.584556</td>\n",
       "      <td>0.302825</td>\n",
       "      <td>0.139040</td>\n",
       "      <td>-1.132156</td>\n",
       "      <td>0.574711</td>\n",
       "    </tr>\n",
       "    <tr>\n",
       "      <th>4</th>\n",
       "      <td>0.051881</td>\n",
       "      <td>0.951331</td>\n",
       "      <td>-0.034755</td>\n",
       "      <td>-0.581981</td>\n",
       "      <td>-0.832432</td>\n",
       "    </tr>\n",
       "  </tbody>\n",
       "</table>\n",
       "</div>"
      ],
      "text/plain": [
       "        AGE  Pression_art_orepos  CHOLESTEROL  Fréqce_card_max  DEPRESSION\n",
       "0 -1.433140             0.410909     0.825070         1.382928   -0.832432\n",
       "1 -0.478484             1.491752    -0.171961         0.754157    0.105664\n",
       "2 -1.751359            -0.129513     0.770188        -1.525138   -0.832432\n",
       "3 -0.584556             0.302825     0.139040        -1.132156    0.574711\n",
       "4  0.051881             0.951331    -0.034755        -0.581981   -0.832432"
      ]
     },
     "execution_count": 30,
     "metadata": {},
     "output_type": "execute_result"
    }
   ],
   "source": [
    "col_names = ['AGE', 'Pression_art_orepos', 'CHOLESTEROL', 'Fréqce_card_max', 'DEPRESSION']\n",
    "features = var_quant[col_names]\n",
    "scaler = StandardScaler().fit(features.values)\n",
    "features = scaler.transform(features.values)\n",
    "scaled_features = pd.DataFrame(features, columns = col_names)\n",
    "scaled_features.head()"
   ]
  },
  {
   "cell_type": "code",
   "execution_count": 31,
   "id": "408eb41a",
   "metadata": {},
   "outputs": [
    {
     "data": {
      "text/html": [
       "<div>\n",
       "<style scoped>\n",
       "    .dataframe tbody tr th:only-of-type {\n",
       "        vertical-align: middle;\n",
       "    }\n",
       "\n",
       "    .dataframe tbody tr th {\n",
       "        vertical-align: top;\n",
       "    }\n",
       "\n",
       "    .dataframe thead th {\n",
       "        text-align: right;\n",
       "    }\n",
       "</style>\n",
       "<table border=\"1\" class=\"dataframe\">\n",
       "  <thead>\n",
       "    <tr style=\"text-align: right;\">\n",
       "      <th></th>\n",
       "      <th>AGE</th>\n",
       "      <th>Pression_art_orepos</th>\n",
       "      <th>CHOLESTEROL</th>\n",
       "      <th>Fréqce_card_max</th>\n",
       "      <th>DEPRESSION</th>\n",
       "    </tr>\n",
       "  </thead>\n",
       "  <tbody>\n",
       "    <tr>\n",
       "      <th>0</th>\n",
       "      <td>-1.433140</td>\n",
       "      <td>0.410909</td>\n",
       "      <td>0.825070</td>\n",
       "      <td>1.382928</td>\n",
       "      <td>-0.832432</td>\n",
       "    </tr>\n",
       "    <tr>\n",
       "      <th>1</th>\n",
       "      <td>-0.478484</td>\n",
       "      <td>1.491752</td>\n",
       "      <td>-0.171961</td>\n",
       "      <td>0.754157</td>\n",
       "      <td>0.105664</td>\n",
       "    </tr>\n",
       "    <tr>\n",
       "      <th>2</th>\n",
       "      <td>-1.751359</td>\n",
       "      <td>-0.129513</td>\n",
       "      <td>0.770188</td>\n",
       "      <td>-1.525138</td>\n",
       "      <td>-0.832432</td>\n",
       "    </tr>\n",
       "    <tr>\n",
       "      <th>3</th>\n",
       "      <td>-0.584556</td>\n",
       "      <td>0.302825</td>\n",
       "      <td>0.139040</td>\n",
       "      <td>-1.132156</td>\n",
       "      <td>0.574711</td>\n",
       "    </tr>\n",
       "    <tr>\n",
       "      <th>4</th>\n",
       "      <td>0.051881</td>\n",
       "      <td>0.951331</td>\n",
       "      <td>-0.034755</td>\n",
       "      <td>-0.581981</td>\n",
       "      <td>-0.832432</td>\n",
       "    </tr>\n",
       "  </tbody>\n",
       "</table>\n",
       "</div>"
      ],
      "text/plain": [
       "        AGE  Pression_art_orepos  CHOLESTEROL  Fréqce_card_max  DEPRESSION\n",
       "0 -1.433140             0.410909     0.825070         1.382928   -0.832432\n",
       "1 -0.478484             1.491752    -0.171961         0.754157    0.105664\n",
       "2 -1.751359            -0.129513     0.770188        -1.525138   -0.832432\n",
       "3 -0.584556             0.302825     0.139040        -1.132156    0.574711\n",
       "4  0.051881             0.951331    -0.034755        -0.581981   -0.832432"
      ]
     },
     "execution_count": 31,
     "metadata": {},
     "output_type": "execute_result"
    }
   ],
   "source": [
    "var_quant=scaled_features\n",
    "var_quant.head()"
   ]
  },
  {
   "cell_type": "code",
   "execution_count": 32,
   "id": "f5685010",
   "metadata": {},
   "outputs": [
    {
     "data": {
      "text/html": [
       "<div>\n",
       "<style scoped>\n",
       "    .dataframe tbody tr th:only-of-type {\n",
       "        vertical-align: middle;\n",
       "    }\n",
       "\n",
       "    .dataframe tbody tr th {\n",
       "        vertical-align: top;\n",
       "    }\n",
       "\n",
       "    .dataframe thead th {\n",
       "        text-align: right;\n",
       "    }\n",
       "</style>\n",
       "<table border=\"1\" class=\"dataframe\">\n",
       "  <thead>\n",
       "    <tr style=\"text-align: right;\">\n",
       "      <th></th>\n",
       "      <th>SEXE</th>\n",
       "      <th>Typ_douleur_thor</th>\n",
       "      <th>Result_électrocard</th>\n",
       "      <th>ANGINE</th>\n",
       "      <th>PENTE</th>\n",
       "      <th>Glycémie_à_jeun</th>\n",
       "    </tr>\n",
       "  </thead>\n",
       "  <tbody>\n",
       "    <tr>\n",
       "      <th>0</th>\n",
       "      <td>0</td>\n",
       "      <td>2</td>\n",
       "      <td>0</td>\n",
       "      <td>0</td>\n",
       "      <td>1</td>\n",
       "      <td>0</td>\n",
       "    </tr>\n",
       "    <tr>\n",
       "      <th>1</th>\n",
       "      <td>1</td>\n",
       "      <td>1</td>\n",
       "      <td>0</td>\n",
       "      <td>0</td>\n",
       "      <td>0</td>\n",
       "      <td>0</td>\n",
       "    </tr>\n",
       "    <tr>\n",
       "      <th>2</th>\n",
       "      <td>0</td>\n",
       "      <td>2</td>\n",
       "      <td>2</td>\n",
       "      <td>0</td>\n",
       "      <td>1</td>\n",
       "      <td>0</td>\n",
       "    </tr>\n",
       "    <tr>\n",
       "      <th>3</th>\n",
       "      <td>1</td>\n",
       "      <td>0</td>\n",
       "      <td>0</td>\n",
       "      <td>1</td>\n",
       "      <td>0</td>\n",
       "      <td>0</td>\n",
       "    </tr>\n",
       "    <tr>\n",
       "      <th>4</th>\n",
       "      <td>0</td>\n",
       "      <td>1</td>\n",
       "      <td>0</td>\n",
       "      <td>0</td>\n",
       "      <td>1</td>\n",
       "      <td>0</td>\n",
       "    </tr>\n",
       "    <tr>\n",
       "      <th>...</th>\n",
       "      <td>...</td>\n",
       "      <td>...</td>\n",
       "      <td>...</td>\n",
       "      <td>...</td>\n",
       "      <td>...</td>\n",
       "      <td>...</td>\n",
       "    </tr>\n",
       "    <tr>\n",
       "      <th>913</th>\n",
       "      <td>0</td>\n",
       "      <td>3</td>\n",
       "      <td>0</td>\n",
       "      <td>0</td>\n",
       "      <td>0</td>\n",
       "      <td>0</td>\n",
       "    </tr>\n",
       "    <tr>\n",
       "      <th>914</th>\n",
       "      <td>0</td>\n",
       "      <td>0</td>\n",
       "      <td>0</td>\n",
       "      <td>0</td>\n",
       "      <td>0</td>\n",
       "      <td>1</td>\n",
       "    </tr>\n",
       "    <tr>\n",
       "      <th>915</th>\n",
       "      <td>0</td>\n",
       "      <td>0</td>\n",
       "      <td>0</td>\n",
       "      <td>1</td>\n",
       "      <td>0</td>\n",
       "      <td>0</td>\n",
       "    </tr>\n",
       "    <tr>\n",
       "      <th>916</th>\n",
       "      <td>1</td>\n",
       "      <td>2</td>\n",
       "      <td>1</td>\n",
       "      <td>0</td>\n",
       "      <td>0</td>\n",
       "      <td>0</td>\n",
       "    </tr>\n",
       "    <tr>\n",
       "      <th>917</th>\n",
       "      <td>0</td>\n",
       "      <td>1</td>\n",
       "      <td>0</td>\n",
       "      <td>0</td>\n",
       "      <td>1</td>\n",
       "      <td>0</td>\n",
       "    </tr>\n",
       "  </tbody>\n",
       "</table>\n",
       "<p>918 rows × 6 columns</p>\n",
       "</div>"
      ],
      "text/plain": [
       "     SEXE  Typ_douleur_thor  Result_électrocard  ANGINE  PENTE  \\\n",
       "0       0                 2                   0       0      1   \n",
       "1       1                 1                   0       0      0   \n",
       "2       0                 2                   2       0      1   \n",
       "3       1                 0                   0       1      0   \n",
       "4       0                 1                   0       0      1   \n",
       "..    ...               ...                 ...     ...    ...   \n",
       "913     0                 3                   0       0      0   \n",
       "914     0                 0                   0       0      0   \n",
       "915     0                 0                   0       1      0   \n",
       "916     1                 2                   1       0      0   \n",
       "917     0                 1                   0       0      1   \n",
       "\n",
       "     Glycémie_à_jeun  \n",
       "0                  0  \n",
       "1                  0  \n",
       "2                  0  \n",
       "3                  0  \n",
       "4                  0  \n",
       "..               ...  \n",
       "913                0  \n",
       "914                1  \n",
       "915                0  \n",
       "916                0  \n",
       "917                0  \n",
       "\n",
       "[918 rows x 6 columns]"
      ]
     },
     "execution_count": 32,
     "metadata": {},
     "output_type": "execute_result"
    }
   ],
   "source": [
    "var_quali"
   ]
  },
  {
   "cell_type": "markdown",
   "id": "3e1f5c9d",
   "metadata": {},
   "source": [
    "#### Fusion des variables quanti et qualit pour former un nouveau dataframe"
   ]
  },
  {
   "cell_type": "code",
   "execution_count": 33,
   "id": "c4a52b5b",
   "metadata": {},
   "outputs": [
    {
     "data": {
      "text/plain": [
       "(918, 11)"
      ]
     },
     "execution_count": 33,
     "metadata": {},
     "output_type": "execute_result"
    }
   ],
   "source": [
    "Newdf = pd.concat([var_quant,var_quali], axis=1, ignore_index=False)\n",
    "Newdf.shape"
   ]
  },
  {
   "cell_type": "code",
   "execution_count": 34,
   "id": "8973a833",
   "metadata": {
    "scrolled": true
   },
   "outputs": [
    {
     "data": {
      "text/html": [
       "<div>\n",
       "<style scoped>\n",
       "    .dataframe tbody tr th:only-of-type {\n",
       "        vertical-align: middle;\n",
       "    }\n",
       "\n",
       "    .dataframe tbody tr th {\n",
       "        vertical-align: top;\n",
       "    }\n",
       "\n",
       "    .dataframe thead th {\n",
       "        text-align: right;\n",
       "    }\n",
       "</style>\n",
       "<table border=\"1\" class=\"dataframe\">\n",
       "  <thead>\n",
       "    <tr style=\"text-align: right;\">\n",
       "      <th></th>\n",
       "      <th>AGE</th>\n",
       "      <th>Pression_art_orepos</th>\n",
       "      <th>CHOLESTEROL</th>\n",
       "      <th>Fréqce_card_max</th>\n",
       "      <th>DEPRESSION</th>\n",
       "      <th>SEXE</th>\n",
       "      <th>Typ_douleur_thor</th>\n",
       "      <th>Result_électrocard</th>\n",
       "      <th>ANGINE</th>\n",
       "      <th>PENTE</th>\n",
       "      <th>Glycémie_à_jeun</th>\n",
       "    </tr>\n",
       "  </thead>\n",
       "  <tbody>\n",
       "    <tr>\n",
       "      <th>0</th>\n",
       "      <td>-1.433140</td>\n",
       "      <td>0.410909</td>\n",
       "      <td>0.825070</td>\n",
       "      <td>1.382928</td>\n",
       "      <td>-0.832432</td>\n",
       "      <td>0</td>\n",
       "      <td>2</td>\n",
       "      <td>0</td>\n",
       "      <td>0</td>\n",
       "      <td>1</td>\n",
       "      <td>0</td>\n",
       "    </tr>\n",
       "    <tr>\n",
       "      <th>1</th>\n",
       "      <td>-0.478484</td>\n",
       "      <td>1.491752</td>\n",
       "      <td>-0.171961</td>\n",
       "      <td>0.754157</td>\n",
       "      <td>0.105664</td>\n",
       "      <td>1</td>\n",
       "      <td>1</td>\n",
       "      <td>0</td>\n",
       "      <td>0</td>\n",
       "      <td>0</td>\n",
       "      <td>0</td>\n",
       "    </tr>\n",
       "    <tr>\n",
       "      <th>2</th>\n",
       "      <td>-1.751359</td>\n",
       "      <td>-0.129513</td>\n",
       "      <td>0.770188</td>\n",
       "      <td>-1.525138</td>\n",
       "      <td>-0.832432</td>\n",
       "      <td>0</td>\n",
       "      <td>2</td>\n",
       "      <td>2</td>\n",
       "      <td>0</td>\n",
       "      <td>1</td>\n",
       "      <td>0</td>\n",
       "    </tr>\n",
       "    <tr>\n",
       "      <th>3</th>\n",
       "      <td>-0.584556</td>\n",
       "      <td>0.302825</td>\n",
       "      <td>0.139040</td>\n",
       "      <td>-1.132156</td>\n",
       "      <td>0.574711</td>\n",
       "      <td>1</td>\n",
       "      <td>0</td>\n",
       "      <td>0</td>\n",
       "      <td>1</td>\n",
       "      <td>0</td>\n",
       "      <td>0</td>\n",
       "    </tr>\n",
       "    <tr>\n",
       "      <th>4</th>\n",
       "      <td>0.051881</td>\n",
       "      <td>0.951331</td>\n",
       "      <td>-0.034755</td>\n",
       "      <td>-0.581981</td>\n",
       "      <td>-0.832432</td>\n",
       "      <td>0</td>\n",
       "      <td>1</td>\n",
       "      <td>0</td>\n",
       "      <td>0</td>\n",
       "      <td>1</td>\n",
       "      <td>0</td>\n",
       "    </tr>\n",
       "  </tbody>\n",
       "</table>\n",
       "</div>"
      ],
      "text/plain": [
       "        AGE  Pression_art_orepos  CHOLESTEROL  Fréqce_card_max  DEPRESSION  \\\n",
       "0 -1.433140             0.410909     0.825070         1.382928   -0.832432   \n",
       "1 -0.478484             1.491752    -0.171961         0.754157    0.105664   \n",
       "2 -1.751359            -0.129513     0.770188        -1.525138   -0.832432   \n",
       "3 -0.584556             0.302825     0.139040        -1.132156    0.574711   \n",
       "4  0.051881             0.951331    -0.034755        -0.581981   -0.832432   \n",
       "\n",
       "   SEXE  Typ_douleur_thor  Result_électrocard  ANGINE  PENTE  Glycémie_à_jeun  \n",
       "0     0                 2                   0       0      1                0  \n",
       "1     1                 1                   0       0      0                0  \n",
       "2     0                 2                   2       0      1                0  \n",
       "3     1                 0                   0       1      0                0  \n",
       "4     0                 1                   0       0      1                0  "
      ]
     },
     "execution_count": 34,
     "metadata": {},
     "output_type": "execute_result"
    }
   ],
   "source": [
    "Newdf.head()"
   ]
  },
  {
   "cell_type": "markdown",
   "id": "f99464e2",
   "metadata": {},
   "source": [
    "## 3. Trainset, Testset"
   ]
  },
  {
   "cell_type": "code",
   "execution_count": 35,
   "id": "71da7cdf",
   "metadata": {},
   "outputs": [],
   "source": [
    "X = Newdf\n",
    "y = df1[['CŒUR']]"
   ]
  },
  {
   "cell_type": "code",
   "execution_count": 36,
   "id": "b62de7fb",
   "metadata": {},
   "outputs": [],
   "source": [
    "from sklearn.model_selection import train_test_split"
   ]
  },
  {
   "cell_type": "code",
   "execution_count": 37,
   "id": "5eda6903",
   "metadata": {},
   "outputs": [],
   "source": [
    "x_train, x_test, y_train, y_test = train_test_split(X, y, test_size=0.2, random_state=0)"
   ]
  },
  {
   "cell_type": "code",
   "execution_count": 38,
   "id": "dc052daa",
   "metadata": {},
   "outputs": [
    {
     "data": {
      "text/html": [
       "<div>\n",
       "<style scoped>\n",
       "    .dataframe tbody tr th:only-of-type {\n",
       "        vertical-align: middle;\n",
       "    }\n",
       "\n",
       "    .dataframe tbody tr th {\n",
       "        vertical-align: top;\n",
       "    }\n",
       "\n",
       "    .dataframe thead th {\n",
       "        text-align: right;\n",
       "    }\n",
       "</style>\n",
       "<table border=\"1\" class=\"dataframe\">\n",
       "  <thead>\n",
       "    <tr style=\"text-align: right;\">\n",
       "      <th></th>\n",
       "      <th>AGE</th>\n",
       "      <th>Pression_art_orepos</th>\n",
       "      <th>CHOLESTEROL</th>\n",
       "      <th>Fréqce_card_max</th>\n",
       "      <th>DEPRESSION</th>\n",
       "      <th>SEXE</th>\n",
       "      <th>Typ_douleur_thor</th>\n",
       "      <th>Result_électrocard</th>\n",
       "      <th>ANGINE</th>\n",
       "      <th>PENTE</th>\n",
       "      <th>Glycémie_à_jeun</th>\n",
       "    </tr>\n",
       "  </thead>\n",
       "  <tbody>\n",
       "    <tr>\n",
       "      <th>378</th>\n",
       "      <td>1.749048</td>\n",
       "      <td>0.410909</td>\n",
       "      <td>-1.818435</td>\n",
       "      <td>0.793455</td>\n",
       "      <td>1.043759</td>\n",
       "      <td>0</td>\n",
       "      <td>0</td>\n",
       "      <td>0</td>\n",
       "      <td>1</td>\n",
       "      <td>0</td>\n",
       "      <td>1</td>\n",
       "    </tr>\n",
       "    <tr>\n",
       "      <th>356</th>\n",
       "      <td>-0.796702</td>\n",
       "      <td>-0.940145</td>\n",
       "      <td>-1.818435</td>\n",
       "      <td>-0.935665</td>\n",
       "      <td>0.574711</td>\n",
       "      <td>0</td>\n",
       "      <td>0</td>\n",
       "      <td>0</td>\n",
       "      <td>1</td>\n",
       "      <td>0</td>\n",
       "      <td>0</td>\n",
       "    </tr>\n",
       "    <tr>\n",
       "      <th>738</th>\n",
       "      <td>1.218683</td>\n",
       "      <td>1.491752</td>\n",
       "      <td>1.474513</td>\n",
       "      <td>0.557666</td>\n",
       "      <td>-0.081956</td>\n",
       "      <td>1</td>\n",
       "      <td>1</td>\n",
       "      <td>1</td>\n",
       "      <td>0</td>\n",
       "      <td>1</td>\n",
       "      <td>0</td>\n",
       "    </tr>\n",
       "    <tr>\n",
       "      <th>85</th>\n",
       "      <td>1.324756</td>\n",
       "      <td>0.410909</td>\n",
       "      <td>-0.546991</td>\n",
       "      <td>-1.682331</td>\n",
       "      <td>0.105664</td>\n",
       "      <td>0</td>\n",
       "      <td>0</td>\n",
       "      <td>0</td>\n",
       "      <td>1</td>\n",
       "      <td>0</td>\n",
       "      <td>0</td>\n",
       "    </tr>\n",
       "    <tr>\n",
       "      <th>427</th>\n",
       "      <td>0.582246</td>\n",
       "      <td>0.410909</td>\n",
       "      <td>-1.818435</td>\n",
       "      <td>-0.778472</td>\n",
       "      <td>0.105664</td>\n",
       "      <td>0</td>\n",
       "      <td>0</td>\n",
       "      <td>2</td>\n",
       "      <td>1</td>\n",
       "      <td>0</td>\n",
       "      <td>0</td>\n",
       "    </tr>\n",
       "    <tr>\n",
       "      <th>...</th>\n",
       "      <td>...</td>\n",
       "      <td>...</td>\n",
       "      <td>...</td>\n",
       "      <td>...</td>\n",
       "      <td>...</td>\n",
       "      <td>...</td>\n",
       "      <td>...</td>\n",
       "      <td>...</td>\n",
       "      <td>...</td>\n",
       "      <td>...</td>\n",
       "      <td>...</td>\n",
       "    </tr>\n",
       "    <tr>\n",
       "      <th>835</th>\n",
       "      <td>0.051881</td>\n",
       "      <td>-1.210356</td>\n",
       "      <td>0.367716</td>\n",
       "      <td>-0.424789</td>\n",
       "      <td>1.794236</td>\n",
       "      <td>0</td>\n",
       "      <td>0</td>\n",
       "      <td>0</td>\n",
       "      <td>1</td>\n",
       "      <td>0</td>\n",
       "      <td>0</td>\n",
       "    </tr>\n",
       "    <tr>\n",
       "      <th>192</th>\n",
       "      <td>-0.584556</td>\n",
       "      <td>-0.129513</td>\n",
       "      <td>0.422599</td>\n",
       "      <td>0.911350</td>\n",
       "      <td>-0.832432</td>\n",
       "      <td>0</td>\n",
       "      <td>2</td>\n",
       "      <td>0</td>\n",
       "      <td>0</td>\n",
       "      <td>1</td>\n",
       "      <td>0</td>\n",
       "    </tr>\n",
       "    <tr>\n",
       "      <th>629</th>\n",
       "      <td>0.370100</td>\n",
       "      <td>-0.237597</td>\n",
       "      <td>0.953129</td>\n",
       "      <td>0.872052</td>\n",
       "      <td>-0.832432</td>\n",
       "      <td>1</td>\n",
       "      <td>0</td>\n",
       "      <td>1</td>\n",
       "      <td>0</td>\n",
       "      <td>1</td>\n",
       "      <td>0</td>\n",
       "    </tr>\n",
       "    <tr>\n",
       "      <th>559</th>\n",
       "      <td>1.112610</td>\n",
       "      <td>0.086656</td>\n",
       "      <td>0.678717</td>\n",
       "      <td>-1.367945</td>\n",
       "      <td>2.919951</td>\n",
       "      <td>0</td>\n",
       "      <td>0</td>\n",
       "      <td>0</td>\n",
       "      <td>1</td>\n",
       "      <td>2</td>\n",
       "      <td>0</td>\n",
       "    </tr>\n",
       "    <tr>\n",
       "      <th>684</th>\n",
       "      <td>-0.690629</td>\n",
       "      <td>-1.318441</td>\n",
       "      <td>0.404305</td>\n",
       "      <td>0.596964</td>\n",
       "      <td>-0.832432</td>\n",
       "      <td>0</td>\n",
       "      <td>1</td>\n",
       "      <td>0</td>\n",
       "      <td>0</td>\n",
       "      <td>1</td>\n",
       "      <td>0</td>\n",
       "    </tr>\n",
       "  </tbody>\n",
       "</table>\n",
       "<p>734 rows × 11 columns</p>\n",
       "</div>"
      ],
      "text/plain": [
       "          AGE  Pression_art_orepos  CHOLESTEROL  Fréqce_card_max  DEPRESSION  \\\n",
       "378  1.749048             0.410909    -1.818435         0.793455    1.043759   \n",
       "356 -0.796702            -0.940145    -1.818435        -0.935665    0.574711   \n",
       "738  1.218683             1.491752     1.474513         0.557666   -0.081956   \n",
       "85   1.324756             0.410909    -0.546991        -1.682331    0.105664   \n",
       "427  0.582246             0.410909    -1.818435        -0.778472    0.105664   \n",
       "..        ...                  ...          ...              ...         ...   \n",
       "835  0.051881            -1.210356     0.367716        -0.424789    1.794236   \n",
       "192 -0.584556            -0.129513     0.422599         0.911350   -0.832432   \n",
       "629  0.370100            -0.237597     0.953129         0.872052   -0.832432   \n",
       "559  1.112610             0.086656     0.678717        -1.367945    2.919951   \n",
       "684 -0.690629            -1.318441     0.404305         0.596964   -0.832432   \n",
       "\n",
       "     SEXE  Typ_douleur_thor  Result_électrocard  ANGINE  PENTE  \\\n",
       "378     0                 0                   0       1      0   \n",
       "356     0                 0                   0       1      0   \n",
       "738     1                 1                   1       0      1   \n",
       "85      0                 0                   0       1      0   \n",
       "427     0                 0                   2       1      0   \n",
       "..    ...               ...                 ...     ...    ...   \n",
       "835     0                 0                   0       1      0   \n",
       "192     0                 2                   0       0      1   \n",
       "629     1                 0                   1       0      1   \n",
       "559     0                 0                   0       1      2   \n",
       "684     0                 1                   0       0      1   \n",
       "\n",
       "     Glycémie_à_jeun  \n",
       "378                1  \n",
       "356                0  \n",
       "738                0  \n",
       "85                 0  \n",
       "427                0  \n",
       "..               ...  \n",
       "835                0  \n",
       "192                0  \n",
       "629                0  \n",
       "559                0  \n",
       "684                0  \n",
       "\n",
       "[734 rows x 11 columns]"
      ]
     },
     "execution_count": 38,
     "metadata": {},
     "output_type": "execute_result"
    }
   ],
   "source": [
    "# voir contenu de X_train\n",
    "x_train"
   ]
  },
  {
   "cell_type": "code",
   "execution_count": 39,
   "id": "5c465bd6",
   "metadata": {},
   "outputs": [
    {
     "data": {
      "text/html": [
       "<div>\n",
       "<style scoped>\n",
       "    .dataframe tbody tr th:only-of-type {\n",
       "        vertical-align: middle;\n",
       "    }\n",
       "\n",
       "    .dataframe tbody tr th {\n",
       "        vertical-align: top;\n",
       "    }\n",
       "\n",
       "    .dataframe thead th {\n",
       "        text-align: right;\n",
       "    }\n",
       "</style>\n",
       "<table border=\"1\" class=\"dataframe\">\n",
       "  <thead>\n",
       "    <tr style=\"text-align: right;\">\n",
       "      <th></th>\n",
       "      <th>AGE</th>\n",
       "      <th>Pression_art_orepos</th>\n",
       "      <th>CHOLESTEROL</th>\n",
       "      <th>Fréqce_card_max</th>\n",
       "      <th>DEPRESSION</th>\n",
       "      <th>SEXE</th>\n",
       "      <th>Typ_douleur_thor</th>\n",
       "      <th>Result_électrocard</th>\n",
       "      <th>ANGINE</th>\n",
       "      <th>PENTE</th>\n",
       "      <th>Glycémie_à_jeun</th>\n",
       "    </tr>\n",
       "  </thead>\n",
       "  <tbody>\n",
       "    <tr>\n",
       "      <th>306</th>\n",
       "      <td>0.157954</td>\n",
       "      <td>-0.940145</td>\n",
       "      <td>-1.818435</td>\n",
       "      <td>0.714859</td>\n",
       "      <td>-0.738623</td>\n",
       "      <td>0</td>\n",
       "      <td>0</td>\n",
       "      <td>0</td>\n",
       "      <td>0</td>\n",
       "      <td>0</td>\n",
       "      <td>1</td>\n",
       "    </tr>\n",
       "    <tr>\n",
       "      <th>711</th>\n",
       "      <td>1.324756</td>\n",
       "      <td>-0.669935</td>\n",
       "      <td>0.943982</td>\n",
       "      <td>0.557666</td>\n",
       "      <td>-0.457194</td>\n",
       "      <td>0</td>\n",
       "      <td>0</td>\n",
       "      <td>1</td>\n",
       "      <td>0</td>\n",
       "      <td>0</td>\n",
       "      <td>0</td>\n",
       "    </tr>\n",
       "    <tr>\n",
       "      <th>298</th>\n",
       "      <td>-0.266338</td>\n",
       "      <td>-1.210356</td>\n",
       "      <td>-1.818435</td>\n",
       "      <td>-1.760927</td>\n",
       "      <td>-0.832432</td>\n",
       "      <td>0</td>\n",
       "      <td>0</td>\n",
       "      <td>0</td>\n",
       "      <td>0</td>\n",
       "      <td>0</td>\n",
       "      <td>1</td>\n",
       "    </tr>\n",
       "    <tr>\n",
       "      <th>466</th>\n",
       "      <td>0.157954</td>\n",
       "      <td>-0.669935</td>\n",
       "      <td>-1.818435</td>\n",
       "      <td>-0.464087</td>\n",
       "      <td>1.512807</td>\n",
       "      <td>0</td>\n",
       "      <td>1</td>\n",
       "      <td>2</td>\n",
       "      <td>1</td>\n",
       "      <td>0</td>\n",
       "      <td>0</td>\n",
       "    </tr>\n",
       "    <tr>\n",
       "      <th>253</th>\n",
       "      <td>0.900464</td>\n",
       "      <td>0.410909</td>\n",
       "      <td>0.660423</td>\n",
       "      <td>0.596964</td>\n",
       "      <td>0.105664</td>\n",
       "      <td>0</td>\n",
       "      <td>2</td>\n",
       "      <td>0</td>\n",
       "      <td>0</td>\n",
       "      <td>1</td>\n",
       "      <td>0</td>\n",
       "    </tr>\n",
       "    <tr>\n",
       "      <th>...</th>\n",
       "      <td>...</td>\n",
       "      <td>...</td>\n",
       "      <td>...</td>\n",
       "      <td>...</td>\n",
       "      <td>...</td>\n",
       "      <td>...</td>\n",
       "      <td>...</td>\n",
       "      <td>...</td>\n",
       "      <td>...</td>\n",
       "      <td>...</td>\n",
       "      <td>...</td>\n",
       "    </tr>\n",
       "    <tr>\n",
       "      <th>909</th>\n",
       "      <td>1.006537</td>\n",
       "      <td>-0.453766</td>\n",
       "      <td>-0.016461</td>\n",
       "      <td>-0.031807</td>\n",
       "      <td>-0.832432</td>\n",
       "      <td>1</td>\n",
       "      <td>0</td>\n",
       "      <td>0</td>\n",
       "      <td>1</td>\n",
       "      <td>0</td>\n",
       "      <td>0</td>\n",
       "    </tr>\n",
       "    <tr>\n",
       "      <th>293</th>\n",
       "      <td>1.218683</td>\n",
       "      <td>-0.940145</td>\n",
       "      <td>-1.818435</td>\n",
       "      <td>-1.721629</td>\n",
       "      <td>-0.832432</td>\n",
       "      <td>0</td>\n",
       "      <td>0</td>\n",
       "      <td>0</td>\n",
       "      <td>1</td>\n",
       "      <td>0</td>\n",
       "      <td>0</td>\n",
       "    </tr>\n",
       "    <tr>\n",
       "      <th>761</th>\n",
       "      <td>-0.160265</td>\n",
       "      <td>-1.102272</td>\n",
       "      <td>0.285393</td>\n",
       "      <td>0.911350</td>\n",
       "      <td>-0.832432</td>\n",
       "      <td>0</td>\n",
       "      <td>0</td>\n",
       "      <td>0</td>\n",
       "      <td>0</td>\n",
       "      <td>1</td>\n",
       "      <td>0</td>\n",
       "    </tr>\n",
       "    <tr>\n",
       "      <th>2</th>\n",
       "      <td>-1.751359</td>\n",
       "      <td>-0.129513</td>\n",
       "      <td>0.770188</td>\n",
       "      <td>-1.525138</td>\n",
       "      <td>-0.832432</td>\n",
       "      <td>0</td>\n",
       "      <td>2</td>\n",
       "      <td>2</td>\n",
       "      <td>0</td>\n",
       "      <td>1</td>\n",
       "      <td>0</td>\n",
       "    </tr>\n",
       "    <tr>\n",
       "      <th>409</th>\n",
       "      <td>-0.054192</td>\n",
       "      <td>1.491752</td>\n",
       "      <td>-1.818435</td>\n",
       "      <td>-0.581981</td>\n",
       "      <td>-0.832432</td>\n",
       "      <td>0</td>\n",
       "      <td>1</td>\n",
       "      <td>1</td>\n",
       "      <td>1</td>\n",
       "      <td>0</td>\n",
       "      <td>1</td>\n",
       "    </tr>\n",
       "  </tbody>\n",
       "</table>\n",
       "<p>184 rows × 11 columns</p>\n",
       "</div>"
      ],
      "text/plain": [
       "          AGE  Pression_art_orepos  CHOLESTEROL  Fréqce_card_max  DEPRESSION  \\\n",
       "306  0.157954            -0.940145    -1.818435         0.714859   -0.738623   \n",
       "711  1.324756            -0.669935     0.943982         0.557666   -0.457194   \n",
       "298 -0.266338            -1.210356    -1.818435        -1.760927   -0.832432   \n",
       "466  0.157954            -0.669935    -1.818435        -0.464087    1.512807   \n",
       "253  0.900464             0.410909     0.660423         0.596964    0.105664   \n",
       "..        ...                  ...          ...              ...         ...   \n",
       "909  1.006537            -0.453766    -0.016461        -0.031807   -0.832432   \n",
       "293  1.218683            -0.940145    -1.818435        -1.721629   -0.832432   \n",
       "761 -0.160265            -1.102272     0.285393         0.911350   -0.832432   \n",
       "2   -1.751359            -0.129513     0.770188        -1.525138   -0.832432   \n",
       "409 -0.054192             1.491752    -1.818435        -0.581981   -0.832432   \n",
       "\n",
       "     SEXE  Typ_douleur_thor  Result_électrocard  ANGINE  PENTE  \\\n",
       "306     0                 0                   0       0      0   \n",
       "711     0                 0                   1       0      0   \n",
       "298     0                 0                   0       0      0   \n",
       "466     0                 1                   2       1      0   \n",
       "253     0                 2                   0       0      1   \n",
       "..    ...               ...                 ...     ...    ...   \n",
       "909     1                 0                   0       1      0   \n",
       "293     0                 0                   0       1      0   \n",
       "761     0                 0                   0       0      1   \n",
       "2       0                 2                   2       0      1   \n",
       "409     0                 1                   1       1      0   \n",
       "\n",
       "     Glycémie_à_jeun  \n",
       "306                1  \n",
       "711                0  \n",
       "298                1  \n",
       "466                0  \n",
       "253                0  \n",
       "..               ...  \n",
       "909                0  \n",
       "293                0  \n",
       "761                0  \n",
       "2                  0  \n",
       "409                1  \n",
       "\n",
       "[184 rows x 11 columns]"
      ]
     },
     "execution_count": 39,
     "metadata": {},
     "output_type": "execute_result"
    }
   ],
   "source": [
    "# voir contenu de y_train\n",
    "x_test"
   ]
  },
  {
   "cell_type": "code",
   "execution_count": null,
   "id": "9773d539",
   "metadata": {},
   "outputs": [],
   "source": []
  },
  {
   "cell_type": "markdown",
   "id": "74de4918",
   "metadata": {},
   "source": [
    "## MODELISATION "
   ]
  },
  {
   "cell_type": "code",
   "execution_count": 40,
   "id": "b82a164e",
   "metadata": {},
   "outputs": [],
   "source": [
    "from sklearn.metrics import classification_report\n",
    "from sklearn.metrics import f1_score, confusion_matrix, classification_report\n",
    "from sklearn.model_selection import learning_curve"
   ]
  },
  {
   "cell_type": "markdown",
   "id": "1222160e",
   "metadata": {},
   "source": [
    "## 1. Regression logistique "
   ]
  },
  {
   "cell_type": "code",
   "execution_count": 41,
   "id": "a34bdf79",
   "metadata": {},
   "outputs": [],
   "source": [
    "from sklearn.linear_model import LogisticRegression"
   ]
  },
  {
   "cell_type": "code",
   "execution_count": 42,
   "id": "9bd728fc",
   "metadata": {},
   "outputs": [],
   "source": [
    "model_reg = LogisticRegression(random_state=0)"
   ]
  },
  {
   "cell_type": "code",
   "execution_count": 43,
   "id": "4835d18f",
   "metadata": {},
   "outputs": [
    {
     "data": {
      "text/plain": [
       "LogisticRegression(random_state=0)"
      ]
     },
     "execution_count": 43,
     "metadata": {},
     "output_type": "execute_result"
    }
   ],
   "source": [
    "model_reg.fit(x_train, y_train)"
   ]
  },
  {
   "cell_type": "code",
   "execution_count": 44,
   "id": "66f0b6ca",
   "metadata": {},
   "outputs": [
    {
     "data": {
      "text/plain": [
       "0.8623978201634878"
      ]
     },
     "execution_count": 44,
     "metadata": {},
     "output_type": "execute_result"
    }
   ],
   "source": [
    "model_reg.score(x_train, y_train)"
   ]
  },
  {
   "cell_type": "code",
   "execution_count": 45,
   "id": "43140b4d",
   "metadata": {},
   "outputs": [
    {
     "data": {
      "text/plain": [
       "0.8369565217391305"
      ]
     },
     "execution_count": 45,
     "metadata": {},
     "output_type": "execute_result"
    }
   ],
   "source": [
    "model_reg.score(x_test, y_test)"
   ]
  },
  {
   "cell_type": "code",
   "execution_count": 46,
   "id": "f17ea881",
   "metadata": {},
   "outputs": [],
   "source": [
    "y_pred = model_reg.predict(x_test)"
   ]
  },
  {
   "cell_type": "code",
   "execution_count": 47,
   "id": "a6fe48cb",
   "metadata": {},
   "outputs": [
    {
     "name": "stdout",
     "output_type": "stream",
     "text": [
      "              precision    recall  f1-score   support\n",
      "\n",
      "           0       0.82      0.78      0.80        77\n",
      "           1       0.85      0.88      0.86       107\n",
      "\n",
      "    accuracy                           0.84       184\n",
      "   macro avg       0.83      0.83      0.83       184\n",
      "weighted avg       0.84      0.84      0.84       184\n",
      "\n"
     ]
    }
   ],
   "source": [
    "print(classification_report(y_test, y_pred))"
   ]
  },
  {
   "cell_type": "code",
   "execution_count": 48,
   "id": "aed07698",
   "metadata": {},
   "outputs": [
    {
     "data": {
      "text/plain": [
       "<matplotlib.legend.Legend at 0x1937201b640>"
      ]
     },
     "execution_count": 48,
     "metadata": {},
     "output_type": "execute_result"
    },
    {
     "data": {
      "image/png": "[encoded data removed]",
      "text/plain": [
       "<Figure size 864x576 with 1 Axes>"
      ]
     },
     "metadata": {
      "needs_background": "light"
     },
     "output_type": "display_data"
    }
   ],
   "source": [
    "N, train_score, val_score = learning_curve(model_reg, x_train, y_train,\n",
    "                                          cv=4, scoring='f1',\n",
    "                                          train_sizes=np.linspace(0.1, 1, 10))\n",
    "plt.figure(figsize=(12, 8))\n",
    "plt.plot(N, train_score.mean(axis=1), label='train score')\n",
    "plt.plot(N, val_score.mean(axis=1), label='validation score')\n",
    "plt.legend()"
   ]
  },
  {
   "cell_type": "markdown",
   "id": "47b41bba",
   "metadata": {},
   "source": [
    "## 2. SVM"
   ]
  },
  {
   "cell_type": "markdown",
   "id": "d9987d43",
   "metadata": {},
   "source": [
    "- svm à noyau polynomial"
   ]
  },
  {
   "cell_type": "code",
   "execution_count": 49,
   "id": "dde238a8",
   "metadata": {},
   "outputs": [],
   "source": [
    "from sklearn.svm import SVC\n",
    "from sklearn.metrics import classification_report"
   ]
  },
  {
   "cell_type": "code",
   "execution_count": 50,
   "id": "e8127597",
   "metadata": {},
   "outputs": [],
   "source": [
    "classifier= SVC(kernel='poly',random_state=0)\n",
    "model_svm_poly=classifier.fit(x_train, y_train)"
   ]
  },
  {
   "cell_type": "code",
   "execution_count": 51,
   "id": "e5eba0c8",
   "metadata": {},
   "outputs": [
    {
     "name": "stdout",
     "output_type": "stream",
     "text": [
      "[[57 20]\n",
      " [11 96]]\n",
      "              precision    recall  f1-score   support\n",
      "\n",
      "           0       0.84      0.74      0.79        77\n",
      "           1       0.83      0.90      0.86       107\n",
      "\n",
      "    accuracy                           0.83       184\n",
      "   macro avg       0.83      0.82      0.82       184\n",
      "weighted avg       0.83      0.83      0.83       184\n",
      "\n"
     ]
    }
   ],
   "source": [
    "y_pred=model_svm_poly.predict(x_test)\n",
    "print(confusion_matrix(y_test, y_pred))\n",
    "print(classification_report(y_test,y_pred))"
   ]
  },
  {
   "cell_type": "code",
   "execution_count": 52,
   "id": "92bf5e51",
   "metadata": {},
   "outputs": [
    {
     "data": {
      "text/plain": [
       "<matplotlib.legend.Legend at 0x193721e78e0>"
      ]
     },
     "execution_count": 52,
     "metadata": {},
     "output_type": "execute_result"
    },
    {
     "data": {
      "image/png": "[encoded data removed]",
      "text/plain": [
       "<Figure size 864x576 with 1 Axes>"
      ]
     },
     "metadata": {
      "needs_background": "light"
     },
     "output_type": "display_data"
    }
   ],
   "source": [
    "N, train_score, val_score = learning_curve(model_svm_poly, x_train, y_train,\n",
    "                                          cv=4, scoring='f1',\n",
    "                                          train_sizes=np.linspace(0.1, 1, 10))\n",
    "plt.figure(figsize=(12, 8))\n",
    "plt.plot(N, train_score.mean(axis=1), label='train score')\n",
    "plt.plot(N, val_score.mean(axis=1), label='validation score')\n",
    "plt.legend()"
   ]
  },
  {
   "cell_type": "markdown",
   "id": "6b18a999",
   "metadata": {},
   "source": [
    "* SVM a noyau rbf"
   ]
  },
  {
   "cell_type": "code",
   "execution_count": 53,
   "id": "24b33f32",
   "metadata": {},
   "outputs": [],
   "source": [
    "# Créer une SVM avec un noyau rbf\n",
    "classifier= SVC(kernel='rbf',random_state=0)\n",
    "model_svm_rbf=classifier.fit(x_train,y_train)"
   ]
  },
  {
   "cell_type": "code",
   "execution_count": 54,
   "id": "08acb3da",
   "metadata": {},
   "outputs": [
    {
     "data": {
      "text/plain": [
       "0.8586956521739131"
      ]
     },
     "execution_count": 54,
     "metadata": {},
     "output_type": "execute_result"
    }
   ],
   "source": [
    "model_svm_rbf.score(x_test,y_test)"
   ]
  },
  {
   "cell_type": "code",
   "execution_count": 55,
   "id": "42c6d881",
   "metadata": {},
   "outputs": [
    {
     "name": "stdout",
     "output_type": "stream",
     "text": [
      "              precision    recall  f1-score   support\n",
      "\n",
      "           0       0.86      0.79      0.82        77\n",
      "           1       0.86      0.91      0.88       107\n",
      "\n",
      "    accuracy                           0.86       184\n",
      "   macro avg       0.86      0.85      0.85       184\n",
      "weighted avg       0.86      0.86      0.86       184\n",
      "\n"
     ]
    }
   ],
   "source": [
    "y_pred=model_svm_rbf.predict(x_test)\n",
    "print(classification_report(y_test,y_pred))"
   ]
  },
  {
   "cell_type": "code",
   "execution_count": 56,
   "id": "36d20bf3",
   "metadata": {},
   "outputs": [
    {
     "data": {
      "text/plain": [
       "<matplotlib.legend.Legend at 0x1937197f490>"
      ]
     },
     "execution_count": 56,
     "metadata": {},
     "output_type": "execute_result"
    },
    {
     "data": {
      "image/png": "[encoded data removed]",
      "text/plain": [
       "<Figure size 864x576 with 1 Axes>"
      ]
     },
     "metadata": {
      "needs_background": "light"
     },
     "output_type": "display_data"
    }
   ],
   "source": [
    "N, train_score, val_score = learning_curve(model_svm_rbf, x_train, y_train,\n",
    "                                          cv=4, scoring='f1',\n",
    "                                          train_sizes=np.linspace(0.1, 1, 10))\n",
    "plt.figure(figsize=(12, 8))\n",
    "plt.plot(N, train_score.mean(axis=1), label='train score')\n",
    "plt.plot(N, val_score.mean(axis=1), label='validation score')\n",
    "plt.legend()"
   ]
  },
  {
   "cell_type": "markdown",
   "id": "84fe3150",
   "metadata": {},
   "source": [
    "* La meilleure performance que j'ai eu est de 86% avec un SVM à noyau \"RBF\""
   ]
  },
  {
   "cell_type": "code",
   "execution_count": null,
   "id": "33da3150",
   "metadata": {},
   "outputs": [],
   "source": []
  }
 ],
 "metadata": {
  "kernelspec": {
   "display_name": "Python 3",
   "language": "python",
   "name": "python3"
  },
  "language_info": {
   "codemirror_mode": {
    "name": "ipython",
    "version": 3
   },
   "file_extension": ".py",
   "mimetype": "text/x-python",
   "name": "python",
   "nbconvert_exporter": "python",
   "pygments_lexer": "ipython3",
   "version": "3.8.8"
  }
 },
 "nbformat": 4,
 "nbformat_minor": 5
}
